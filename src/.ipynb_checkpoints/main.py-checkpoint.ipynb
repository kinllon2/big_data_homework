{
 "cells": [
  {
   "cell_type": "code",
   "execution_count": 1,
   "id": "8a1c8a35",
   "metadata": {},
   "outputs": [],
   "source": [
    "import numpy as np\n",
    "import pandas as pd"
   ]
  },
  {
   "cell_type": "markdown",
   "id": "40dc6022",
   "metadata": {},
   "source": [
    "### Preprocessing in data mining"
   ]
  },
  {
   "cell_type": "code",
   "execution_count": 45,
   "id": "f675b1e7",
   "metadata": {},
   "outputs": [],
   "source": [
    "testing_data = '../data/testing.csv'\n",
    "training_data = '../data/training.csv'\n",
    "validation_data = '../data/validation.csv'"
   ]
  },
  {
   "cell_type": "code",
   "execution_count": 3,
   "id": "617cabf7",
   "metadata": {},
   "outputs": [],
   "source": [
    "test_array = np.array(pd.read_csv(testing_data))\n",
    "train_array = np.array(pd.read_csv(training_data))\n",
    "validation_array = np.array(pd.read_csv(validation_data))"
   ]
  },
  {
   "cell_type": "markdown",
   "id": "4d398e30",
   "metadata": {},
   "source": [
    "### using nltk\n",
    "install command\n",
    "```\n",
    "sudo pip install -U nltk\n",
    "```\n",
    "However, this command can't effect, I use the other command to solve this problem\n",
    "```\n",
    "conda install nltk\n",
    "```"
   ]
  },
  {
   "cell_type": "code",
   "execution_count": 4,
   "id": "e71b7392",
   "metadata": {},
   "outputs": [],
   "source": [
    "from nltk import word_tokenize"
   ]
  },
  {
   "cell_type": "code",
   "execution_count": 32,
   "id": "315da04b",
   "metadata": {},
   "outputs": [],
   "source": [
    "from nltk import word_tokenize    \n",
    "paragraph = \"The first time I heard that song was in Hawaii on radio. I was just a kid, and loved it very much! What a fantastic song!\"\n",
    "words = word_tokenize(paragraph)"
   ]
  },
  {
   "cell_type": "markdown",
   "id": "7c8a03a8",
   "metadata": {},
   "source": [
    "### load stop_words"
   ]
  },
  {
   "cell_type": "code",
   "execution_count": 33,
   "id": "f5d1560e",
   "metadata": {},
   "outputs": [
    {
     "name": "stdout",
     "output_type": "stream",
     "text": [
      "['The', 'first', 'time', 'I', 'heard', 'song', 'Hawaii', 'radio', 'I', 'kid', 'loved', 'much', 'What', 'fantastic', 'song']\n"
     ]
    }
   ],
   "source": [
    "from nltk.corpus import stopwords\n",
    "\n",
    "\n",
    "from nltk.corpus import stopwords\n",
    "stop_words = stopwords.words('english')\n",
    "\n",
    "for w in ['!',',','.','?','-s','-ly','</s>','s']:\n",
    "    stop_words.append(w)\n",
    "\n",
    "filtered_words = [word for word in words if word not in stop_words]\n",
    "print(filtered_words)"
   ]
  },
  {
   "cell_type": "markdown",
   "id": "fa88ebb4",
   "metadata": {},
   "source": [
    "## To dolist\n",
    "思路1：TF-IDF + 机器学习分类器：直接使用TF-IDF对文本提取特征，并使用分类器进行分类。在分类器的选择上，可以使用SVM、LR、或者XGBoost。\n",
    "\n",
    "思路2：FastText：FastText是入门款的词向量，利用Facebook提供的FastText工具，可以快速构建出分类器。\n",
    "\n",
    "思路3：WordVec + 深度学习分类器：WordVec是进阶款的词向量，并通过构建深度学习分类完成分类。深度学习分类的网络结构可以选择TextCNN、TextRNN或者BiLSTM。\n",
    "\n",
    "思路4：Bert词向量：Bert是高配款的词向量，具有强大的建模学习能力。\n",
    "\n",
    "\n",
    "\n",
    "\n",
    "```\n",
    "o recordId: record id of the review\n",
    "o drugName: name of the drug\n",
    "o condition: condition to take the drug\n",
    "o reviewComment: review comment\n",
    "o date: review created date\n",
    "o usefulCount: the number of users who find the review useful \n",
    "o sideEffects: level of side effects of the drug\n",
    "```\n",
    "\n",
    "\n",
    "recorId\n",
    "drugName\n",
    "condition to take the drug\n",
    "reviewComment (主要用来处理的内容)\n",
    "date没什么用\n",
    "usefulCount 有用的数量\n",
    "sideEffects:副作用的情况\n",
    "\n",
    "\n",
    "可以用来作为参数的内容:\n",
    "reviewComment, usefulCount, sideEffects这三个内容"
   ]
  },
  {
   "cell_type": "code",
   "execution_count": 88,
   "id": "afbb4a66",
   "metadata": {},
   "outputs": [
    {
     "ename": "KeyError",
     "evalue": "'recordId'",
     "output_type": "error",
     "traceback": [
      "\u001b[0;31m---------------------------------------------------------------------------\u001b[0m",
      "\u001b[0;31mKeyError\u001b[0m                                  Traceback (most recent call last)",
      "\u001b[0;32m/tmp/ipykernel_84967/3249266220.py\u001b[0m in \u001b[0;36m<module>\u001b[0;34m\u001b[0m\n\u001b[1;32m     11\u001b[0m \u001b[0;34m\u001b[0m\u001b[0m\n\u001b[1;32m     12\u001b[0m \u001b[0;34m\u001b[0m\u001b[0m\n\u001b[0;32m---> 13\u001b[0;31m \u001b[0mread_data\u001b[0m\u001b[0;34m(\u001b[0m\u001b[0mtesting_data\u001b[0m\u001b[0;34m)\u001b[0m\u001b[0;34m\u001b[0m\u001b[0;34m\u001b[0m\u001b[0m\n\u001b[0m",
      "\u001b[0;32m/tmp/ipykernel_84967/3249266220.py\u001b[0m in \u001b[0;36mread_data\u001b[0;34m(data_path)\u001b[0m\n\u001b[1;32m      7\u001b[0m         \u001b[0mreader\u001b[0m \u001b[0;34m=\u001b[0m \u001b[0mcsv\u001b[0m\u001b[0;34m.\u001b[0m\u001b[0mDictReader\u001b[0m\u001b[0;34m(\u001b[0m\u001b[0min_f\u001b[0m\u001b[0;34m)\u001b[0m\u001b[0;34m\u001b[0m\u001b[0;34m\u001b[0m\u001b[0m\n\u001b[1;32m      8\u001b[0m         \u001b[0;32mfor\u001b[0m \u001b[0mrow\u001b[0m \u001b[0;32min\u001b[0m \u001b[0mreader\u001b[0m\u001b[0;34m:\u001b[0m\u001b[0;34m\u001b[0m\u001b[0;34m\u001b[0m\u001b[0m\n\u001b[0;32m----> 9\u001b[0;31m             \u001b[0mcolumn\u001b[0m \u001b[0;34m=\u001b[0m \u001b[0;34m[\u001b[0m\u001b[0mrow\u001b[0m\u001b[0;34m[\u001b[0m\u001b[0;34m'recordId'\u001b[0m\u001b[0;34m]\u001b[0m \u001b[0;32mfor\u001b[0m \u001b[0mrow\u001b[0m \u001b[0;32min\u001b[0m \u001b[0mreader\u001b[0m\u001b[0;34m]\u001b[0m\u001b[0;34m\u001b[0m\u001b[0;34m\u001b[0m\u001b[0m\n\u001b[0m\u001b[1;32m     10\u001b[0m \u001b[0;34m\u001b[0m\u001b[0m\n\u001b[1;32m     11\u001b[0m \u001b[0;34m\u001b[0m\u001b[0m\n",
      "\u001b[0;32m/tmp/ipykernel_84967/3249266220.py\u001b[0m in \u001b[0;36m<listcomp>\u001b[0;34m(.0)\u001b[0m\n\u001b[1;32m      7\u001b[0m         \u001b[0mreader\u001b[0m \u001b[0;34m=\u001b[0m \u001b[0mcsv\u001b[0m\u001b[0;34m.\u001b[0m\u001b[0mDictReader\u001b[0m\u001b[0;34m(\u001b[0m\u001b[0min_f\u001b[0m\u001b[0;34m)\u001b[0m\u001b[0;34m\u001b[0m\u001b[0;34m\u001b[0m\u001b[0m\n\u001b[1;32m      8\u001b[0m         \u001b[0;32mfor\u001b[0m \u001b[0mrow\u001b[0m \u001b[0;32min\u001b[0m \u001b[0mreader\u001b[0m\u001b[0;34m:\u001b[0m\u001b[0;34m\u001b[0m\u001b[0;34m\u001b[0m\u001b[0m\n\u001b[0;32m----> 9\u001b[0;31m             \u001b[0mcolumn\u001b[0m \u001b[0;34m=\u001b[0m \u001b[0;34m[\u001b[0m\u001b[0mrow\u001b[0m\u001b[0;34m[\u001b[0m\u001b[0;34m'recordId'\u001b[0m\u001b[0;34m]\u001b[0m \u001b[0;32mfor\u001b[0m \u001b[0mrow\u001b[0m \u001b[0;32min\u001b[0m \u001b[0mreader\u001b[0m\u001b[0;34m]\u001b[0m\u001b[0;34m\u001b[0m\u001b[0;34m\u001b[0m\u001b[0m\n\u001b[0m\u001b[1;32m     10\u001b[0m \u001b[0;34m\u001b[0m\u001b[0m\n\u001b[1;32m     11\u001b[0m \u001b[0;34m\u001b[0m\u001b[0m\n",
      "\u001b[0;31mKeyError\u001b[0m: 'recordId'"
     ]
    }
   ],
   "source": [
    "import re\n",
    "import csv\n",
    "\n",
    "def read_data(data_path):\n",
    "    with open(data_path, 'r', encoding='utf-8') as in_f:\n",
    "        header = next(in_f)\n",
    "        reader = csv.DictReader(in_f)\n",
    "        \n",
    "\n",
    "            \n",
    "read_data(testing_data)"
   ]
  },
  {
   "cell_type": "code",
   "execution_count": null,
   "id": "e9301680",
   "metadata": {},
   "outputs": [],
   "source": []
  }
 ],
 "metadata": {
  "kernelspec": {
   "display_name": "Python 3 (ipykernel)",
   "language": "python",
   "name": "python3"
  },
  "language_info": {
   "codemirror_mode": {
    "name": "ipython",
    "version": 3
   },
   "file_extension": ".py",
   "mimetype": "text/x-python",
   "name": "python",
   "nbconvert_exporter": "python",
   "pygments_lexer": "ipython3",
   "version": "3.7.11"
  }
 },
 "nbformat": 4,
 "nbformat_minor": 5
}
