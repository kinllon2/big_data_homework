{
 "cells": [
  {
   "cell_type": "code",
   "execution_count": 69,
   "id": "8d83de59",
   "metadata": {},
   "outputs": [],
   "source": [
    "import numpy as np\n",
    "import pandas as pd\n",
    "import matplotlib.pyplot as plt\n",
    "from matplotlib import style; style.use('ggplot')\n",
    "import nltk\n",
    "from nltk.sentiment.vader import SentimentIntensityAnalyzer\n",
    "import time\n",
    "from sklearn.feature_extraction.text import TfidfVectorizer\n",
    "from sklearn.naive_bayes import MultinomialNB\n",
    "from sklearn.metrics import confusion_matrix\n",
    "from sklearn.ensemble import RandomForestClassifier"
   ]
  },
  {
   "cell_type": "code",
   "execution_count": 71,
   "id": "e864192d",
   "metadata": {},
   "outputs": [
    {
     "data": {
      "text/html": [
       "<div>\n",
       "<style scoped>\n",
       "    .dataframe tbody tr th:only-of-type {\n",
       "        vertical-align: middle;\n",
       "    }\n",
       "\n",
       "    .dataframe tbody tr th {\n",
       "        vertical-align: top;\n",
       "    }\n",
       "\n",
       "    .dataframe thead th {\n",
       "        text-align: right;\n",
       "    }\n",
       "</style>\n",
       "<table border=\"1\" class=\"dataframe\">\n",
       "  <thead>\n",
       "    <tr style=\"text-align: right;\">\n",
       "      <th></th>\n",
       "      <th>recordId</th>\n",
       "      <th>drugName</th>\n",
       "      <th>condition</th>\n",
       "      <th>reviewComment</th>\n",
       "      <th>date</th>\n",
       "      <th>usefulCount</th>\n",
       "      <th>sideEffects</th>\n",
       "      <th>rating</th>\n",
       "    </tr>\n",
       "  </thead>\n",
       "  <tbody>\n",
       "    <tr>\n",
       "      <th>0</th>\n",
       "      <td>163740</td>\n",
       "      <td>Mirtazapine</td>\n",
       "      <td>Depression</td>\n",
       "      <td>\"I&amp;#039;ve tried a few antidepressants over th...</td>\n",
       "      <td>February 28, 2012</td>\n",
       "      <td>22</td>\n",
       "      <td>Mild Side Effects</td>\n",
       "      <td>5</td>\n",
       "    </tr>\n",
       "    <tr>\n",
       "      <th>1</th>\n",
       "      <td>206473</td>\n",
       "      <td>Mesalamine</td>\n",
       "      <td>Crohn's Disease, Maintenance</td>\n",
       "      <td>\"My son has Crohn&amp;#039;s disease and has done ...</td>\n",
       "      <td>May 17, 2009</td>\n",
       "      <td>17</td>\n",
       "      <td>Severe Side Effects</td>\n",
       "      <td>4</td>\n",
       "    </tr>\n",
       "    <tr>\n",
       "      <th>2</th>\n",
       "      <td>159672</td>\n",
       "      <td>Bactrim</td>\n",
       "      <td>Urinary Tract Infection</td>\n",
       "      <td>\"Quick reduction of symptoms\"</td>\n",
       "      <td>September 29, 2017</td>\n",
       "      <td>3</td>\n",
       "      <td>No Side Effects</td>\n",
       "      <td>5</td>\n",
       "    </tr>\n",
       "    <tr>\n",
       "      <th>3</th>\n",
       "      <td>39293</td>\n",
       "      <td>Contrave</td>\n",
       "      <td>Weight Loss</td>\n",
       "      <td>\"Contrave combines drugs that were used for al...</td>\n",
       "      <td>March 5, 2017</td>\n",
       "      <td>35</td>\n",
       "      <td>Mild Side Effects</td>\n",
       "      <td>5</td>\n",
       "    </tr>\n",
       "    <tr>\n",
       "      <th>4</th>\n",
       "      <td>97768</td>\n",
       "      <td>Cyclafem 1 / 35</td>\n",
       "      <td>Birth Control</td>\n",
       "      <td>\"I have been on this birth control for one cyc...</td>\n",
       "      <td>October 22, 2015</td>\n",
       "      <td>4</td>\n",
       "      <td>Severe Side Effects</td>\n",
       "      <td>5</td>\n",
       "    </tr>\n",
       "    <tr>\n",
       "      <th>...</th>\n",
       "      <td>...</td>\n",
       "      <td>...</td>\n",
       "      <td>...</td>\n",
       "      <td>...</td>\n",
       "      <td>...</td>\n",
       "      <td>...</td>\n",
       "      <td>...</td>\n",
       "      <td>...</td>\n",
       "    </tr>\n",
       "    <tr>\n",
       "      <th>6994</th>\n",
       "      <td>21322</td>\n",
       "      <td>Rivastigmine</td>\n",
       "      <td>Alzheimer's Disease</td>\n",
       "      <td>\"I have 7 Immediate Family members that had Al...</td>\n",
       "      <td>February 2, 2016</td>\n",
       "      <td>11</td>\n",
       "      <td>Mild Side Effects</td>\n",
       "      <td>5</td>\n",
       "    </tr>\n",
       "    <tr>\n",
       "      <th>6995</th>\n",
       "      <td>172273</td>\n",
       "      <td>Clonazepam</td>\n",
       "      <td>Periodic Limb Movement Disorde</td>\n",
       "      <td>\"Started on 0.5 mg at bedtime for possible res...</td>\n",
       "      <td>May 20, 2017</td>\n",
       "      <td>0</td>\n",
       "      <td>No Side Effects</td>\n",
       "      <td>4</td>\n",
       "    </tr>\n",
       "    <tr>\n",
       "      <th>6996</th>\n",
       "      <td>29177</td>\n",
       "      <td>Topiramate</td>\n",
       "      <td>Obesity</td>\n",
       "      <td>\"I am on day 4 now and I am pretty spacey.  I ...</td>\n",
       "      <td>December 18, 2016</td>\n",
       "      <td>79</td>\n",
       "      <td>Mild Side Effects</td>\n",
       "      <td>5</td>\n",
       "    </tr>\n",
       "    <tr>\n",
       "      <th>6997</th>\n",
       "      <td>197612</td>\n",
       "      <td>Suprep Bowel Prep Kit</td>\n",
       "      <td>Bowel Preparation</td>\n",
       "      <td>\"I could only complete the first session. With...</td>\n",
       "      <td>December 9, 2017</td>\n",
       "      <td>1</td>\n",
       "      <td>No Side Effects</td>\n",
       "      <td>1</td>\n",
       "    </tr>\n",
       "    <tr>\n",
       "      <th>6998</th>\n",
       "      <td>24340</td>\n",
       "      <td>Telaprevir</td>\n",
       "      <td>Hepatitis C</td>\n",
       "      <td>\"I am now a three time partial responder, my e...</td>\n",
       "      <td>June 26, 2013</td>\n",
       "      <td>2</td>\n",
       "      <td>No Side Effects</td>\n",
       "      <td>3</td>\n",
       "    </tr>\n",
       "  </tbody>\n",
       "</table>\n",
       "<p>6999 rows × 8 columns</p>\n",
       "</div>"
      ],
      "text/plain": [
       "      recordId               drugName                       condition  \\\n",
       "0       163740            Mirtazapine                      Depression   \n",
       "1       206473             Mesalamine    Crohn's Disease, Maintenance   \n",
       "2       159672                Bactrim         Urinary Tract Infection   \n",
       "3        39293               Contrave                     Weight Loss   \n",
       "4        97768        Cyclafem 1 / 35                   Birth Control   \n",
       "...        ...                    ...                             ...   \n",
       "6994     21322           Rivastigmine             Alzheimer's Disease   \n",
       "6995    172273             Clonazepam  Periodic Limb Movement Disorde   \n",
       "6996     29177             Topiramate                         Obesity   \n",
       "6997    197612  Suprep Bowel Prep Kit               Bowel Preparation   \n",
       "6998     24340             Telaprevir                     Hepatitis C   \n",
       "\n",
       "                                          reviewComment                date  \\\n",
       "0     \"I&#039;ve tried a few antidepressants over th...   February 28, 2012   \n",
       "1     \"My son has Crohn&#039;s disease and has done ...        May 17, 2009   \n",
       "2                         \"Quick reduction of symptoms\"  September 29, 2017   \n",
       "3     \"Contrave combines drugs that were used for al...       March 5, 2017   \n",
       "4     \"I have been on this birth control for one cyc...    October 22, 2015   \n",
       "...                                                 ...                 ...   \n",
       "6994  \"I have 7 Immediate Family members that had Al...    February 2, 2016   \n",
       "6995  \"Started on 0.5 mg at bedtime for possible res...        May 20, 2017   \n",
       "6996  \"I am on day 4 now and I am pretty spacey.  I ...   December 18, 2016   \n",
       "6997  \"I could only complete the first session. With...    December 9, 2017   \n",
       "6998  \"I am now a three time partial responder, my e...       June 26, 2013   \n",
       "\n",
       "      usefulCount          sideEffects  rating  \n",
       "0              22    Mild Side Effects       5  \n",
       "1              17  Severe Side Effects       4  \n",
       "2               3      No Side Effects       5  \n",
       "3              35    Mild Side Effects       5  \n",
       "4               4  Severe Side Effects       5  \n",
       "...           ...                  ...     ...  \n",
       "6994           11    Mild Side Effects       5  \n",
       "6995            0      No Side Effects       4  \n",
       "6996           79    Mild Side Effects       5  \n",
       "6997            1      No Side Effects       1  \n",
       "6998            2      No Side Effects       3  \n",
       "\n",
       "[6999 rows x 8 columns]"
      ]
     },
     "execution_count": 71,
     "metadata": {},
     "output_type": "execute_result"
    }
   ],
   "source": [
    "testing_data = '../data/testing.csv'\n",
    "training_data = '../data/training.csv'\n",
    "validation_data = '../data/validation.csv'\n",
    "\n",
    "# Create dataframes train and test\n",
    "train = pd.read_csv(training_data)\n",
    "test = pd.read_csv(validation_data)\n",
    "train"
   ]
  },
  {
   "cell_type": "code",
   "execution_count": 8,
   "id": "3cf513e6",
   "metadata": {},
   "outputs": [
    {
     "data": {
      "text/html": [
       "<div>\n",
       "<style scoped>\n",
       "    .dataframe tbody tr th:only-of-type {\n",
       "        vertical-align: middle;\n",
       "    }\n",
       "\n",
       "    .dataframe tbody tr th {\n",
       "        vertical-align: top;\n",
       "    }\n",
       "\n",
       "    .dataframe thead th {\n",
       "        text-align: right;\n",
       "    }\n",
       "</style>\n",
       "<table border=\"1\" class=\"dataframe\">\n",
       "  <thead>\n",
       "    <tr style=\"text-align: right;\">\n",
       "      <th></th>\n",
       "      <th>recordId</th>\n",
       "      <th>drugName</th>\n",
       "      <th>condition</th>\n",
       "      <th>reviewComment</th>\n",
       "      <th>date</th>\n",
       "      <th>usefulCount</th>\n",
       "      <th>sideEffects</th>\n",
       "      <th>rating</th>\n",
       "    </tr>\n",
       "  </thead>\n",
       "  <tbody>\n",
       "    <tr>\n",
       "      <th>0</th>\n",
       "      <td>219597</td>\n",
       "      <td>Microgestin Fe 1.5 / 30</td>\n",
       "      <td>Birth Control</td>\n",
       "      <td>\"I was on Microgestin Fe 1/20 for three months...</td>\n",
       "      <td>September 10, 2017</td>\n",
       "      <td>1</td>\n",
       "      <td>Severe Side Effects</td>\n",
       "      <td>NaN</td>\n",
       "    </tr>\n",
       "    <tr>\n",
       "      <th>1</th>\n",
       "      <td>134044</td>\n",
       "      <td>Prednisone</td>\n",
       "      <td>Cluster Headaches</td>\n",
       "      <td>\"Have had clusters for 45 years, remember the ...</td>\n",
       "      <td>August 29, 2017</td>\n",
       "      <td>0</td>\n",
       "      <td>Moderate Side Effects</td>\n",
       "      <td>NaN</td>\n",
       "    </tr>\n",
       "    <tr>\n",
       "      <th>2</th>\n",
       "      <td>68176</td>\n",
       "      <td>Plan B</td>\n",
       "      <td>Emergency Contraception</td>\n",
       "      <td>\"On June 6th 2015 I took plan B 4 HOURS after ...</td>\n",
       "      <td>July 6, 2015</td>\n",
       "      <td>13</td>\n",
       "      <td>Mild Side Effects</td>\n",
       "      <td>NaN</td>\n",
       "    </tr>\n",
       "    <tr>\n",
       "      <th>3</th>\n",
       "      <td>200538</td>\n",
       "      <td>Varenicline</td>\n",
       "      <td>Smoking Cessation</td>\n",
       "      <td>\"I tried Chantix for a period of 2 months.  My...</td>\n",
       "      <td>July 7, 2011</td>\n",
       "      <td>7</td>\n",
       "      <td>Mild Side Effects</td>\n",
       "      <td>NaN</td>\n",
       "    </tr>\n",
       "    <tr>\n",
       "      <th>4</th>\n",
       "      <td>46409</td>\n",
       "      <td>Modafinil</td>\n",
       "      <td>Narcolepsy</td>\n",
       "      <td>\"I was diagnosed with Sleep Apnea, for that I ...</td>\n",
       "      <td>October 1, 2009</td>\n",
       "      <td>11</td>\n",
       "      <td>Moderate Side Effects</td>\n",
       "      <td>NaN</td>\n",
       "    </tr>\n",
       "  </tbody>\n",
       "</table>\n",
       "</div>"
      ],
      "text/plain": [
       "   recordId                 drugName                condition  \\\n",
       "0    219597  Microgestin Fe 1.5 / 30            Birth Control   \n",
       "1    134044               Prednisone        Cluster Headaches   \n",
       "2     68176                   Plan B  Emergency Contraception   \n",
       "3    200538              Varenicline        Smoking Cessation   \n",
       "4     46409                Modafinil               Narcolepsy   \n",
       "\n",
       "                                       reviewComment                date  \\\n",
       "0  \"I was on Microgestin Fe 1/20 for three months...  September 10, 2017   \n",
       "1  \"Have had clusters for 45 years, remember the ...     August 29, 2017   \n",
       "2  \"On June 6th 2015 I took plan B 4 HOURS after ...        July 6, 2015   \n",
       "3  \"I tried Chantix for a period of 2 months.  My...        July 7, 2011   \n",
       "4  \"I was diagnosed with Sleep Apnea, for that I ...     October 1, 2009   \n",
       "\n",
       "   usefulCount            sideEffects  rating  \n",
       "0            1    Severe Side Effects     NaN  \n",
       "1            0  Moderate Side Effects     NaN  \n",
       "2           13      Mild Side Effects     NaN  \n",
       "3            7      Mild Side Effects     NaN  \n",
       "4           11  Moderate Side Effects     NaN  "
      ]
     },
     "execution_count": 8,
     "metadata": {},
     "output_type": "execute_result"
    }
   ],
   "source": [
    "test.head()"
   ]
  },
  {
   "cell_type": "code",
   "execution_count": 9,
   "id": "f4c17763",
   "metadata": {},
   "outputs": [
    {
     "data": {
      "text/plain": [
       "True"
      ]
     },
     "execution_count": 9,
     "metadata": {},
     "output_type": "execute_result"
    }
   ],
   "source": [
    "list(train) == list(test)"
   ]
  },
  {
   "cell_type": "code",
   "execution_count": 10,
   "id": "dfec45f3",
   "metadata": {},
   "outputs": [
    {
     "data": {
      "text/plain": [
       "['recordId',\n",
       " 'drugName',\n",
       " 'condition',\n",
       " 'reviewComment',\n",
       " 'date',\n",
       " 'usefulCount',\n",
       " 'sideEffects',\n",
       " 'rating']"
      ]
     },
     "execution_count": 10,
     "metadata": {},
     "output_type": "execute_result"
    }
   ],
   "source": [
    "list(train)"
   ]
  },
  {
   "cell_type": "code",
   "execution_count": 11,
   "id": "b056cb7d",
   "metadata": {},
   "outputs": [
    {
     "data": {
      "text/plain": [
       "(6999, 1798, 3.8926585094549497)"
      ]
     },
     "execution_count": 11,
     "metadata": {},
     "output_type": "execute_result"
    }
   ],
   "source": [
    "train.values.shape[0], test.values.shape[0], train.values.shape[0] / test.values.shape[0]"
   ]
  },
  {
   "cell_type": "code",
   "execution_count": 12,
   "id": "7707faa0",
   "metadata": {},
   "outputs": [
    {
     "data": {
      "text/plain": [
       "(409, 250)"
      ]
     },
     "execution_count": 12,
     "metadata": {},
     "output_type": "execute_result"
    }
   ],
   "source": [
    "train.condition.unique().size, test.condition.unique().size"
   ]
  },
  {
   "cell_type": "code",
   "execution_count": 13,
   "id": "63c425f1",
   "metadata": {},
   "outputs": [
    {
     "data": {
      "text/plain": [
       "(1300, 654)"
      ]
     },
     "execution_count": 13,
     "metadata": {},
     "output_type": "execute_result"
    }
   ],
   "source": [
    "train.drugName.unique().size, test.drugName.unique().size"
   ]
  },
  {
   "cell_type": "code",
   "execution_count": 16,
   "id": "c4457c89",
   "metadata": {},
   "outputs": [
    {
     "data": {
      "text/plain": [
       "Birth Control      1265\n",
       "Depression          427\n",
       "Pain                270\n",
       "Anxiety             248\n",
       "Acne                234\n",
       "Bipolar Disorde     186\n",
       "Weight Loss         182\n",
       "Insomnia            154\n",
       "ADHD                139\n",
       "Obesity             130\n",
       "Name: condition, dtype: int64"
      ]
     },
     "execution_count": 16,
     "metadata": {},
     "output_type": "execute_result"
    }
   ],
   "source": [
    "conditions = train.condition.value_counts().sort_values(ascending=False)\n",
    "conditions[:10]"
   ]
  },
  {
   "cell_type": "code",
   "execution_count": 21,
   "id": "0eeb315e",
   "metadata": {},
   "outputs": [
    {
     "data": {
      "image/png": "[encoded data removed]",
      "text/plain": [
       "<Figure size 864x576 with 1 Axes>"
      ]
     },
     "metadata": {},
     "output_type": "display_data"
    }
   ],
   "source": [
    "plt.rcParams['figure.figsize'] = [12, 8]\n",
    "conditions[:10].plot(kind='bar')\n",
    "plt.title('Top 10 Most Common Conditions')\n",
    "plt.xlabel('Condition')\n",
    "plt.ylabel('Count');"
   ]
  },
  {
   "cell_type": "code",
   "execution_count": 23,
   "id": "a8eedde8",
   "metadata": {},
   "outputs": [
    {
     "data": {
      "image/png": "[encoded data removed]",
      "text/plain": [
       "<Figure size 864x576 with 1 Axes>"
      ]
     },
     "metadata": {},
     "output_type": "display_data"
    }
   ],
   "source": [
    "### Rating Distribution\n",
    "# Look at bias in review (also shown on 'Data' page in competition: distribution of ratings)\n",
    "train.rating.hist(color='skyblue')\n",
    "plt.title('Distribution of Ratings')\n",
    "plt.xlabel('Rating')\n",
    "plt.ylabel('Count')\n",
    "plt.xticks([i for i in range(1, 6)]);"
   ]
  },
  {
   "cell_type": "code",
   "execution_count": 24,
   "id": "78ed0b78",
   "metadata": {},
   "outputs": [
    {
     "data": {
      "text/plain": [
       "Text(0, 0.5, 'Count')"
      ]
     },
     "execution_count": 24,
     "metadata": {},
     "output_type": "execute_result"
    },
    {
     "data": {
      "image/png": "[encoded data removed]",
      "text/plain": [
       "<Figure size 864x576 with 1 Axes>"
      ]
     },
     "metadata": {},
     "output_type": "display_data"
    }
   ],
   "source": [
    "# Distribution of average drug ratings\n",
    "rating_avgs = (train['rating'].groupby(train['drugName']).mean())\n",
    "rating_avgs.hist(color='skyblue')\n",
    "plt.title('Distribution of average drug ratings')\n",
    "plt.xlabel('Rating')\n",
    "plt.ylabel('Count')"
   ]
  },
  {
   "cell_type": "code",
   "execution_count": 26,
   "id": "d258d736",
   "metadata": {},
   "outputs": [
    {
     "data": {
      "image/png": "[encoded data removed]",
      "text/plain": [
       "<Figure size 864x576 with 1 Axes>"
      ]
     },
     "metadata": {},
     "output_type": "display_data"
    }
   ],
   "source": [
    "# Averages of medication reviews for each disease\n",
    "rating_avgs = (train['rating'].groupby(train['condition']).mean())\n",
    "rating_avgs.hist(color='skyblue')\n",
    "plt.title('Averages of medication reviews for each disease')\n",
    "plt.xlabel('Rating')\n",
    "plt.ylabel('Count')\n",
    "plt.show()"
   ]
  },
  {
   "cell_type": "code",
   "execution_count": 28,
   "id": "87ab013c",
   "metadata": {},
   "outputs": [
    {
     "data": {
      "image/png": "[encoded data removed]",
      "text/plain": [
       "<Figure size 864x576 with 1 Axes>"
      ]
     },
     "metadata": {},
     "output_type": "display_data"
    }
   ],
   "source": [
    "# Is rating correlated with usefulness of the review?\n",
    "plt.scatter(train.rating, train.usefulCount, c=train.rating.values, cmap='tab10')\n",
    "plt.title('Useful Count vs Rating')\n",
    "plt.xlabel('Rating')\n",
    "plt.ylabel('Useful Count')\n",
    "plt.xticks([i for i in range(1, 6)]);"
   ]
  },
  {
   "cell_type": "code",
   "execution_count": 29,
   "id": "7a12f17f",
   "metadata": {},
   "outputs": [
    {
     "name": "stderr",
     "output_type": "stream",
     "text": [
      "/home/ubuntu/anaconda3/envs/big_data/lib/python3.7/site-packages/ipykernel_launcher.py:5: RuntimeWarning: invalid value encountered in long_scalars\n",
      "  \"\"\"\n"
     ]
    }
   ],
   "source": [
    "# Create a list (cast into an array) containing the average usefulness for given ratings\n",
    "use_ls = []\n",
    "\n",
    "for i in range(1, 11):\n",
    "    use_ls.append([i, np.sum(train[train.rating == i].usefulCount) / np.sum([train.rating == i])])\n",
    "    \n",
    "use_arr = np.asarray(use_ls)"
   ]
  },
  {
   "cell_type": "code",
   "execution_count": 31,
   "id": "f1fa6de8",
   "metadata": {},
   "outputs": [
    {
     "data": {
      "image/png": "[encoded data removed]",
      "text/plain": [
       "<Figure size 864x576 with 1 Axes>"
      ]
     },
     "metadata": {},
     "output_type": "display_data"
    }
   ],
   "source": [
    "plt.scatter(use_arr[:, 0], use_arr[:, 1], c=use_arr[:, 0], cmap='tab10', s=200)\n",
    "plt.title('Average Useful Count vs Rating')\n",
    "plt.xlabel('Rating')\n",
    "plt.ylabel('Average Useful Count')\n",
    "plt.xticks([i for i in range(1, 6)]);"
   ]
  },
  {
   "cell_type": "code",
   "execution_count": 32,
   "id": "0f057721",
   "metadata": {},
   "outputs": [
    {
     "data": {
      "text/html": [
       "<div>\n",
       "<style scoped>\n",
       "    .dataframe tbody tr th:only-of-type {\n",
       "        vertical-align: middle;\n",
       "    }\n",
       "\n",
       "    .dataframe tbody tr th {\n",
       "        vertical-align: top;\n",
       "    }\n",
       "\n",
       "    .dataframe thead th {\n",
       "        text-align: right;\n",
       "    }\n",
       "</style>\n",
       "<table border=\"1\" class=\"dataframe\">\n",
       "  <thead>\n",
       "    <tr style=\"text-align: right;\">\n",
       "      <th></th>\n",
       "      <th>recordId</th>\n",
       "      <th>drugName</th>\n",
       "      <th>condition</th>\n",
       "      <th>reviewComment</th>\n",
       "      <th>date</th>\n",
       "      <th>usefulCount</th>\n",
       "      <th>sideEffects</th>\n",
       "      <th>rating</th>\n",
       "    </tr>\n",
       "  </thead>\n",
       "  <tbody>\n",
       "    <tr>\n",
       "      <th>3829</th>\n",
       "      <td>96615</td>\n",
       "      <td>Sertraline</td>\n",
       "      <td>Depression</td>\n",
       "      <td>\"I&amp;#039;ve been on Zoloft 50mg for over two ye...</td>\n",
       "      <td>August 5, 2008</td>\n",
       "      <td>949</td>\n",
       "      <td>Moderate Side Effects</td>\n",
       "      <td>5</td>\n",
       "    </tr>\n",
       "    <tr>\n",
       "      <th>5099</th>\n",
       "      <td>151366</td>\n",
       "      <td>OxyContin</td>\n",
       "      <td>Pain</td>\n",
       "      <td>\"Ahhhh, the dreaded drug...no matter what you ...</td>\n",
       "      <td>April 15, 2008</td>\n",
       "      <td>695</td>\n",
       "      <td>Mild Side Effects</td>\n",
       "      <td>5</td>\n",
       "    </tr>\n",
       "    <tr>\n",
       "      <th>3014</th>\n",
       "      <td>96501</td>\n",
       "      <td>Sertraline</td>\n",
       "      <td>Depression</td>\n",
       "      <td>\"I am 55 years old and have been taking Zoloft...</td>\n",
       "      <td>January 18, 2009</td>\n",
       "      <td>680</td>\n",
       "      <td>Severe Side Effects</td>\n",
       "      <td>5</td>\n",
       "    </tr>\n",
       "    <tr>\n",
       "      <th>6311</th>\n",
       "      <td>62640</td>\n",
       "      <td>Citalopram</td>\n",
       "      <td>Depression</td>\n",
       "      <td>\"I&amp;#039;ve been taking Celexa for about 2 mont...</td>\n",
       "      <td>January 29, 2010</td>\n",
       "      <td>559</td>\n",
       "      <td>Moderate Side Effects</td>\n",
       "      <td>5</td>\n",
       "    </tr>\n",
       "    <tr>\n",
       "      <th>283</th>\n",
       "      <td>130982</td>\n",
       "      <td>Levonorgestrel</td>\n",
       "      <td>Birth Control</td>\n",
       "      <td>\"I have had this for about 5 months now.. I ha...</td>\n",
       "      <td>May 7, 2010</td>\n",
       "      <td>470</td>\n",
       "      <td>Moderate Side Effects</td>\n",
       "      <td>1</td>\n",
       "    </tr>\n",
       "    <tr>\n",
       "      <th>6547</th>\n",
       "      <td>201567</td>\n",
       "      <td>Zoloft</td>\n",
       "      <td>Depression</td>\n",
       "      <td>\"I was suffering from being a slave to my nega...</td>\n",
       "      <td>April 21, 2014</td>\n",
       "      <td>440</td>\n",
       "      <td>Moderate Side Effects</td>\n",
       "      <td>5</td>\n",
       "    </tr>\n",
       "    <tr>\n",
       "      <th>3413</th>\n",
       "      <td>171527</td>\n",
       "      <td>Wellbutrin</td>\n",
       "      <td>Depression</td>\n",
       "      <td>\"I am a 35 year old woman, who has taken meds ...</td>\n",
       "      <td>January 17, 2015</td>\n",
       "      <td>389</td>\n",
       "      <td>Extremely Severe Side Effects</td>\n",
       "      <td>5</td>\n",
       "    </tr>\n",
       "    <tr>\n",
       "      <th>1010</th>\n",
       "      <td>197453</td>\n",
       "      <td>Paroxetine</td>\n",
       "      <td>Depression</td>\n",
       "      <td>\"In the sea of negative reviews which I read b...</td>\n",
       "      <td>February 22, 2010</td>\n",
       "      <td>384</td>\n",
       "      <td>Moderate Side Effects</td>\n",
       "      <td>5</td>\n",
       "    </tr>\n",
       "    <tr>\n",
       "      <th>700</th>\n",
       "      <td>119135</td>\n",
       "      <td>Zoloft</td>\n",
       "      <td>Depression</td>\n",
       "      <td>\"I was crying over the weirdest things and did...</td>\n",
       "      <td>May 9, 2009</td>\n",
       "      <td>381</td>\n",
       "      <td>Moderate Side Effects</td>\n",
       "      <td>5</td>\n",
       "    </tr>\n",
       "    <tr>\n",
       "      <th>4971</th>\n",
       "      <td>181734</td>\n",
       "      <td>Prozac</td>\n",
       "      <td>Anxiety and Stress</td>\n",
       "      <td>\"I started taking Prozac (10mg) a couple of mo...</td>\n",
       "      <td>November 26, 2009</td>\n",
       "      <td>359</td>\n",
       "      <td>Mild Side Effects</td>\n",
       "      <td>5</td>\n",
       "    </tr>\n",
       "  </tbody>\n",
       "</table>\n",
       "</div>"
      ],
      "text/plain": [
       "      recordId        drugName           condition  \\\n",
       "3829     96615      Sertraline          Depression   \n",
       "5099    151366       OxyContin                Pain   \n",
       "3014     96501      Sertraline          Depression   \n",
       "6311     62640      Citalopram          Depression   \n",
       "283     130982  Levonorgestrel       Birth Control   \n",
       "6547    201567          Zoloft          Depression   \n",
       "3413    171527      Wellbutrin          Depression   \n",
       "1010    197453      Paroxetine          Depression   \n",
       "700     119135          Zoloft          Depression   \n",
       "4971    181734          Prozac  Anxiety and Stress   \n",
       "\n",
       "                                          reviewComment               date  \\\n",
       "3829  \"I&#039;ve been on Zoloft 50mg for over two ye...     August 5, 2008   \n",
       "5099  \"Ahhhh, the dreaded drug...no matter what you ...     April 15, 2008   \n",
       "3014  \"I am 55 years old and have been taking Zoloft...   January 18, 2009   \n",
       "6311  \"I&#039;ve been taking Celexa for about 2 mont...   January 29, 2010   \n",
       "283   \"I have had this for about 5 months now.. I ha...        May 7, 2010   \n",
       "6547  \"I was suffering from being a slave to my nega...     April 21, 2014   \n",
       "3413  \"I am a 35 year old woman, who has taken meds ...   January 17, 2015   \n",
       "1010  \"In the sea of negative reviews which I read b...  February 22, 2010   \n",
       "700   \"I was crying over the weirdest things and did...        May 9, 2009   \n",
       "4971  \"I started taking Prozac (10mg) a couple of mo...  November 26, 2009   \n",
       "\n",
       "      usefulCount                    sideEffects  rating  \n",
       "3829          949          Moderate Side Effects       5  \n",
       "5099          695              Mild Side Effects       5  \n",
       "3014          680            Severe Side Effects       5  \n",
       "6311          559          Moderate Side Effects       5  \n",
       "283           470          Moderate Side Effects       1  \n",
       "6547          440          Moderate Side Effects       5  \n",
       "3413          389  Extremely Severe Side Effects       5  \n",
       "1010          384          Moderate Side Effects       5  \n",
       "700           381          Moderate Side Effects       5  \n",
       "4971          359              Mild Side Effects       5  "
      ]
     },
     "execution_count": 32,
     "metadata": {},
     "output_type": "execute_result"
    }
   ],
   "source": [
    "# Sort train dataframe from most to least useful\n",
    "useful_train = train.sort_values(by='usefulCount', ascending=False)\n",
    "useful_train.iloc[:10]"
   ]
  },
  {
   "cell_type": "code",
   "execution_count": 34,
   "id": "6e653f15",
   "metadata": {},
   "outputs": [
    {
     "name": "stdout",
     "output_type": "stream",
     "text": [
      "\"I&#039;ve been on Zoloft 50mg for over two years. I am a more relaxed and easy-going person because of Zoloft.  Prior to starting the medicine, I was anxious all the time, worried constantly about everything, and suffered periods of depression and hopelessness.  Now I am a better wife, friend, and person in general.\" \n",
      "\n",
      "\"Ahhhh, the dreaded drug...no matter what you call it, by whatever media-scare tactic out there, what isn&#039;t trumpeted are the success stories....why is that?  Does something have to be &quot;Negative&quot; to garner press?  And if so, why is that?\r",
      "\r\n",
      "\r",
      "\r\n",
      "My story:  Two brain surgeries.  Manmouth amounts of pain.  I tried everything -- nothing lasted like this drug.  It has allowed me to go back to work, to live my life, to be a father to my children.  Screw the strange looks @the pharmacy...I&#039;m alive!\" \n",
      "\n",
      "\"I am 55 years old and have been taking Zoloft over 20 years. For me it has been a miracle medicine. I find I am much more on an even keel and while some things still upset me, it&#039;s far less than without Zoloft. I find too I am much more rational in my thought processes and am more confident of choices I make. I have several medical conditions that contribute to feeling depressed, overwhelmed, and yes, even suicidal but since I began my therapy with Zoloft, I want to live. Without Zoloft, I did not.  I encourage anyone who feels depressed to seek help by finding the right medication for you. Life is hard enough without having to cope with feelings of severe negative emotions. I am so grateful for whoever created Zoloft.\" \n",
      "\n"
     ]
    }
   ],
   "source": [
    "# Print top 3 most useful reviews\n",
    "for i in useful_train.reviewComment.iloc[:3]:\n",
    "    print(i, '\\n')"
   ]
  },
  {
   "cell_type": "code",
   "execution_count": 36,
   "id": "02c37c16",
   "metadata": {},
   "outputs": [
    {
     "name": "stdout",
     "output_type": "stream",
     "text": [
      "\"I had the Paragard IUD for 6 months, I chose this particular birth control because it has no horomones! My experience getting the device inserted was smooth.. it didn&#039;t hurt at all, but there was indeed some pressure! I was sore for about 3 days, my periods stayed the same, and everything was normal.. the only thing I would point on though was I kept having a strong cramp in my tail bone and sex was quite uncomfortable! Other then that this birth control gave me no other problems.\" \n",
      "\n",
      "\"I took this for one week. It gave me terrible acne. I have never had acne more than an occasional pimple, but it made my face red and bumpy all over, and it has stayed ever since! I switched to a mini pill for a few months and then stopped birth control to get pregnant. It has been 8 months since then and I still have a red bumpy face.\" \n",
      "\n",
      "\"Nuvaring has regulated my cycle, practically diminished any menstrual cramps, and given me peace of mind, which is most important to me. It&#039;s hard to mess this up! In for 3 weeks out for one. I have not experienced any negative side effects, only positive ones. I tried Nuvaring because it is EASY, and because I did not want to get the shot or the 5 year long Mirena. If you&#039;re looking for something mindless and simple try Nuvaring. \" \n",
      "\n"
     ]
    }
   ],
   "source": [
    "# Print 3 of the least useful reviews\n",
    "for i in useful_train.reviewComment.iloc[-3:]:\n",
    "    print(i, '\\n')"
   ]
  },
  {
   "cell_type": "code",
   "execution_count": 40,
   "id": "d86b85d1",
   "metadata": {},
   "outputs": [],
   "source": [
    "sid = SentimentIntensityAnalyzer()\n",
    "# Create list (cast to array) of compound polarity sentiment scores for reviews\n",
    "sentiments = []\n",
    "\n",
    "for i in train.reviewComment:\n",
    "    sentiments.append(sid.polarity_scores(i).get('compound'))\n",
    "    \n",
    "sentiments = np.asarray(sentiments)"
   ]
  },
  {
   "cell_type": "code",
   "execution_count": 41,
   "id": "47b17d93",
   "metadata": {},
   "outputs": [
    {
     "data": {
      "text/plain": [
       "array([-0.4596,  0.0736,  0.    , ...,  0.789 , -0.8016, -0.8431])"
      ]
     },
     "execution_count": 41,
     "metadata": {},
     "output_type": "execute_result"
    }
   ],
   "source": [
    "sentiments"
   ]
  },
  {
   "cell_type": "code",
   "execution_count": 42,
   "id": "72d010a3",
   "metadata": {},
   "outputs": [],
   "source": [
    "useful_train['sentiment'] = pd.Series(data=sentiments)"
   ]
  },
  {
   "cell_type": "code",
   "execution_count": 43,
   "id": "697d1a14",
   "metadata": {},
   "outputs": [
    {
     "data": {
      "text/html": [
       "<div>\n",
       "<style scoped>\n",
       "    .dataframe tbody tr th:only-of-type {\n",
       "        vertical-align: middle;\n",
       "    }\n",
       "\n",
       "    .dataframe tbody tr th {\n",
       "        vertical-align: top;\n",
       "    }\n",
       "\n",
       "    .dataframe thead th {\n",
       "        text-align: right;\n",
       "    }\n",
       "</style>\n",
       "<table border=\"1\" class=\"dataframe\">\n",
       "  <thead>\n",
       "    <tr style=\"text-align: right;\">\n",
       "      <th></th>\n",
       "      <th>recordId</th>\n",
       "      <th>drugName</th>\n",
       "      <th>condition</th>\n",
       "      <th>reviewComment</th>\n",
       "      <th>date</th>\n",
       "      <th>usefulCount</th>\n",
       "      <th>sideEffects</th>\n",
       "      <th>rating</th>\n",
       "      <th>sentiment</th>\n",
       "    </tr>\n",
       "  </thead>\n",
       "  <tbody>\n",
       "    <tr>\n",
       "      <th>0</th>\n",
       "      <td>96615</td>\n",
       "      <td>Sertraline</td>\n",
       "      <td>Depression</td>\n",
       "      <td>\"I&amp;#039;ve been on Zoloft 50mg for over two ye...</td>\n",
       "      <td>August 5, 2008</td>\n",
       "      <td>949</td>\n",
       "      <td>Moderate Side Effects</td>\n",
       "      <td>5</td>\n",
       "      <td>-0.6815</td>\n",
       "    </tr>\n",
       "    <tr>\n",
       "      <th>1</th>\n",
       "      <td>151366</td>\n",
       "      <td>OxyContin</td>\n",
       "      <td>Pain</td>\n",
       "      <td>\"Ahhhh, the dreaded drug...no matter what you ...</td>\n",
       "      <td>April 15, 2008</td>\n",
       "      <td>695</td>\n",
       "      <td>Mild Side Effects</td>\n",
       "      <td>5</td>\n",
       "      <td>-0.8096</td>\n",
       "    </tr>\n",
       "    <tr>\n",
       "      <th>2</th>\n",
       "      <td>96501</td>\n",
       "      <td>Sertraline</td>\n",
       "      <td>Depression</td>\n",
       "      <td>\"I am 55 years old and have been taking Zoloft...</td>\n",
       "      <td>January 18, 2009</td>\n",
       "      <td>680</td>\n",
       "      <td>Severe Side Effects</td>\n",
       "      <td>5</td>\n",
       "      <td>-0.7275</td>\n",
       "    </tr>\n",
       "    <tr>\n",
       "      <th>3</th>\n",
       "      <td>62640</td>\n",
       "      <td>Citalopram</td>\n",
       "      <td>Depression</td>\n",
       "      <td>\"I&amp;#039;ve been taking Celexa for about 2 mont...</td>\n",
       "      <td>January 29, 2010</td>\n",
       "      <td>559</td>\n",
       "      <td>Moderate Side Effects</td>\n",
       "      <td>5</td>\n",
       "      <td>0.9399</td>\n",
       "    </tr>\n",
       "    <tr>\n",
       "      <th>4</th>\n",
       "      <td>130982</td>\n",
       "      <td>Levonorgestrel</td>\n",
       "      <td>Birth Control</td>\n",
       "      <td>\"I have had this for about 5 months now.. I ha...</td>\n",
       "      <td>May 7, 2010</td>\n",
       "      <td>470</td>\n",
       "      <td>Moderate Side Effects</td>\n",
       "      <td>1</td>\n",
       "      <td>-0.7661</td>\n",
       "    </tr>\n",
       "  </tbody>\n",
       "</table>\n",
       "</div>"
      ],
      "text/plain": [
       "   recordId        drugName      condition  \\\n",
       "0     96615      Sertraline     Depression   \n",
       "1    151366       OxyContin           Pain   \n",
       "2     96501      Sertraline     Depression   \n",
       "3     62640      Citalopram     Depression   \n",
       "4    130982  Levonorgestrel  Birth Control   \n",
       "\n",
       "                                       reviewComment              date  \\\n",
       "0  \"I&#039;ve been on Zoloft 50mg for over two ye...    August 5, 2008   \n",
       "1  \"Ahhhh, the dreaded drug...no matter what you ...    April 15, 2008   \n",
       "2  \"I am 55 years old and have been taking Zoloft...  January 18, 2009   \n",
       "3  \"I&#039;ve been taking Celexa for about 2 mont...  January 29, 2010   \n",
       "4  \"I have had this for about 5 months now.. I ha...       May 7, 2010   \n",
       "\n",
       "   usefulCount            sideEffects  rating  sentiment  \n",
       "0          949  Moderate Side Effects       5    -0.6815  \n",
       "1          695      Mild Side Effects       5    -0.8096  \n",
       "2          680    Severe Side Effects       5    -0.7275  \n",
       "3          559  Moderate Side Effects       5     0.9399  \n",
       "4          470  Moderate Side Effects       1    -0.7661  "
      ]
     },
     "execution_count": 43,
     "metadata": {},
     "output_type": "execute_result"
    }
   ],
   "source": [
    "useful_train = useful_train.reset_index(drop=True)\n",
    "useful_train.head()"
   ]
  },
  {
   "cell_type": "code",
   "execution_count": 44,
   "id": "7ef13faf",
   "metadata": {},
   "outputs": [
    {
     "data": {
      "image/png": "[encoded data removed]",
      "text/plain": [
       "<Figure size 864x576 with 1 Axes>"
      ]
     },
     "metadata": {},
     "output_type": "display_data"
    }
   ],
   "source": [
    "useful_train.sentiment.hist(color='skyblue', bins=30)\n",
    "plt.title('Compound Sentiment Score Distribution')\n",
    "plt.xlabel('Scores')\n",
    "plt.ylabel('Count');"
   ]
  },
  {
   "cell_type": "code",
   "execution_count": null,
   "id": "32f828a6",
   "metadata": {},
   "outputs": [],
   "source": [
    "useful_train.plot(x='sentiment', y='usefulCount', kind='scatter', alpha=0.01)\n",
    "plt.title('Usefulness vs Sentiment')\n",
    "plt.ylim(0, 100);"
   ]
  },
  {
   "cell_type": "code",
   "execution_count": 46,
   "id": "1f8e524a",
   "metadata": {},
   "outputs": [
    {
     "name": "stderr",
     "output_type": "stream",
     "text": [
      "/home/ubuntu/anaconda3/envs/big_data/lib/python3.7/site-packages/ipykernel_launcher.py:4: RuntimeWarning: invalid value encountered in double_scalars\n",
      "  after removing the cwd from sys.path.\n"
     ]
    }
   ],
   "source": [
    "temp_ls = []\n",
    "\n",
    "for i in range(1, 11):\n",
    "    temp_ls.append(np.sum(useful_train[useful_train.rating == i].sentiment) / np.sum(useful_train.rating == i))"
   ]
  },
  {
   "cell_type": "code",
   "execution_count": 48,
   "id": "8f7b90ee",
   "metadata": {},
   "outputs": [
    {
     "data": {
      "image/png": "[encoded data removed]",
      "text/plain": [
       "<Figure size 864x576 with 1 Axes>"
      ]
     },
     "metadata": {},
     "output_type": "display_data"
    }
   ],
   "source": [
    "plt.scatter(x=range(1, 11), y=temp_ls, c=range(1, 11), cmap='tab10', s=200)\n",
    "plt.title('Average Sentiment vs Rating')\n",
    "plt.xlabel('Rating')\n",
    "plt.ylabel('Average Sentiment')\n",
    "plt.xticks([i for i in range(1, 6)]);"
   ]
  },
  {
   "cell_type": "code",
   "execution_count": 49,
   "id": "9cfd2094",
   "metadata": {},
   "outputs": [],
   "source": [
    "# Create a list of all drugs and their average ratings, cast to dataframe\n",
    "rate_ls = []\n",
    "\n",
    "for i in train.drugName.unique():\n",
    "    \n",
    "    # Only consider drugs that have at least 10 ratings\n",
    "    if np.sum(train.drugName == i) >= 10:\n",
    "        rate_ls.append((i, np.sum(train[train.drugName == i].rating) / np.sum(train.drugName == i)))\n",
    "    \n",
    "avg_rate = pd.DataFrame(rate_ls)"
   ]
  },
  {
   "cell_type": "code",
   "execution_count": 50,
   "id": "c04ace61",
   "metadata": {},
   "outputs": [
    {
     "data": {
      "text/html": [
       "<div>\n",
       "<style scoped>\n",
       "    .dataframe tbody tr th:only-of-type {\n",
       "        vertical-align: middle;\n",
       "    }\n",
       "\n",
       "    .dataframe tbody tr th {\n",
       "        vertical-align: top;\n",
       "    }\n",
       "\n",
       "    .dataframe thead th {\n",
       "        text-align: right;\n",
       "    }\n",
       "</style>\n",
       "<table border=\"1\" class=\"dataframe\">\n",
       "  <thead>\n",
       "    <tr style=\"text-align: right;\">\n",
       "      <th></th>\n",
       "      <th>0</th>\n",
       "      <th>1</th>\n",
       "    </tr>\n",
       "  </thead>\n",
       "  <tbody>\n",
       "    <tr>\n",
       "      <th>0</th>\n",
       "      <td>Spironolactone</td>\n",
       "      <td>5.000000</td>\n",
       "    </tr>\n",
       "    <tr>\n",
       "      <th>1</th>\n",
       "      <td>Xanax</td>\n",
       "      <td>4.875000</td>\n",
       "    </tr>\n",
       "    <tr>\n",
       "      <th>2</th>\n",
       "      <td>Hydromorphone</td>\n",
       "      <td>4.833333</td>\n",
       "    </tr>\n",
       "    <tr>\n",
       "      <th>3</th>\n",
       "      <td>Suboxone</td>\n",
       "      <td>4.818182</td>\n",
       "    </tr>\n",
       "    <tr>\n",
       "      <th>4</th>\n",
       "      <td>Qsymia</td>\n",
       "      <td>4.700000</td>\n",
       "    </tr>\n",
       "    <tr>\n",
       "      <th>5</th>\n",
       "      <td>Tretinoin</td>\n",
       "      <td>4.700000</td>\n",
       "    </tr>\n",
       "    <tr>\n",
       "      <th>6</th>\n",
       "      <td>Benzoyl peroxide / clindamycin</td>\n",
       "      <td>4.666667</td>\n",
       "    </tr>\n",
       "    <tr>\n",
       "      <th>7</th>\n",
       "      <td>Acetaminophen / butalbital / caffeine</td>\n",
       "      <td>4.636364</td>\n",
       "    </tr>\n",
       "    <tr>\n",
       "      <th>8</th>\n",
       "      <td>Sumatriptan</td>\n",
       "      <td>4.600000</td>\n",
       "    </tr>\n",
       "    <tr>\n",
       "      <th>9</th>\n",
       "      <td>Plan B</td>\n",
       "      <td>4.590909</td>\n",
       "    </tr>\n",
       "  </tbody>\n",
       "</table>\n",
       "</div>"
      ],
      "text/plain": [
       "                                       0         1\n",
       "0                         Spironolactone  5.000000\n",
       "1                                  Xanax  4.875000\n",
       "2                          Hydromorphone  4.833333\n",
       "3                               Suboxone  4.818182\n",
       "4                                 Qsymia  4.700000\n",
       "5                              Tretinoin  4.700000\n",
       "6         Benzoyl peroxide / clindamycin  4.666667\n",
       "7  Acetaminophen / butalbital / caffeine  4.636364\n",
       "8                            Sumatriptan  4.600000\n",
       "9                                 Plan B  4.590909"
      ]
     },
     "execution_count": 50,
     "metadata": {},
     "output_type": "execute_result"
    }
   ],
   "source": [
    "# Sort drugs by their ratings, look at top 10 best and worst rated drugs\n",
    "avg_rate = avg_rate.sort_values(by=[1], ascending=False).reset_index(drop=True)\n",
    "avg_rate[:10]"
   ]
  },
  {
   "cell_type": "code",
   "execution_count": 51,
   "id": "502864a5",
   "metadata": {},
   "outputs": [
    {
     "data": {
      "text/html": [
       "<div>\n",
       "<style scoped>\n",
       "    .dataframe tbody tr th:only-of-type {\n",
       "        vertical-align: middle;\n",
       "    }\n",
       "\n",
       "    .dataframe tbody tr th {\n",
       "        vertical-align: top;\n",
       "    }\n",
       "\n",
       "    .dataframe thead th {\n",
       "        text-align: right;\n",
       "    }\n",
       "</style>\n",
       "<table border=\"1\" class=\"dataframe\">\n",
       "  <thead>\n",
       "    <tr style=\"text-align: right;\">\n",
       "      <th></th>\n",
       "      <th>0</th>\n",
       "      <th>1</th>\n",
       "    </tr>\n",
       "  </thead>\n",
       "  <tbody>\n",
       "    <tr>\n",
       "      <th>156</th>\n",
       "      <td>Ethinyl estradiol / norethindrone</td>\n",
       "      <td>2.637255</td>\n",
       "    </tr>\n",
       "    <tr>\n",
       "      <th>157</th>\n",
       "      <td>Lisinopril</td>\n",
       "      <td>2.636364</td>\n",
       "    </tr>\n",
       "    <tr>\n",
       "      <th>158</th>\n",
       "      <td>Macrobid</td>\n",
       "      <td>2.600000</td>\n",
       "    </tr>\n",
       "    <tr>\n",
       "      <th>159</th>\n",
       "      <td>Synthroid</td>\n",
       "      <td>2.500000</td>\n",
       "    </tr>\n",
       "    <tr>\n",
       "      <th>160</th>\n",
       "      <td>Seasonique</td>\n",
       "      <td>2.500000</td>\n",
       "    </tr>\n",
       "    <tr>\n",
       "      <th>161</th>\n",
       "      <td>Norethindrone</td>\n",
       "      <td>2.416667</td>\n",
       "    </tr>\n",
       "    <tr>\n",
       "      <th>162</th>\n",
       "      <td>Strattera</td>\n",
       "      <td>2.357143</td>\n",
       "    </tr>\n",
       "    <tr>\n",
       "      <th>163</th>\n",
       "      <td>Benzonatate</td>\n",
       "      <td>2.266667</td>\n",
       "    </tr>\n",
       "    <tr>\n",
       "      <th>164</th>\n",
       "      <td>Monistat 3-Day Combination Pack</td>\n",
       "      <td>1.900000</td>\n",
       "    </tr>\n",
       "    <tr>\n",
       "      <th>165</th>\n",
       "      <td>Miconazole</td>\n",
       "      <td>1.863636</td>\n",
       "    </tr>\n",
       "  </tbody>\n",
       "</table>\n",
       "</div>"
      ],
      "text/plain": [
       "                                     0         1\n",
       "156  Ethinyl estradiol / norethindrone  2.637255\n",
       "157                         Lisinopril  2.636364\n",
       "158                           Macrobid  2.600000\n",
       "159                          Synthroid  2.500000\n",
       "160                         Seasonique  2.500000\n",
       "161                      Norethindrone  2.416667\n",
       "162                          Strattera  2.357143\n",
       "163                        Benzonatate  2.266667\n",
       "164    Monistat 3-Day Combination Pack  1.900000\n",
       "165                         Miconazole  1.863636"
      ]
     },
     "execution_count": 51,
     "metadata": {},
     "output_type": "execute_result"
    }
   ],
   "source": [
    "avg_rate[-10:]"
   ]
  },
  {
   "cell_type": "code",
   "execution_count": 52,
   "id": "5edfe9d2",
   "metadata": {},
   "outputs": [],
   "source": [
    "### Best and Worst Drugs by Condition\n",
    "# Make dictionary of conditions, each value will be a dataframe of all of the drugs used to treat the given condition\n",
    "help_dict = {}\n",
    "\n",
    "# Iterate over conditions\n",
    "for i in train.condition.unique():\n",
    "    \n",
    "    temp_ls = []\n",
    "    \n",
    "    # Iterate over drugs within a given condition\n",
    "    for j in train[train.condition == i].drugName.unique():\n",
    "        \n",
    "        # If there are at least 10 reviews for a drug, save its name and average rating in temporary list\n",
    "        if np.sum(train.drugName == j) >= 10:\n",
    "            temp_ls.append((j, np.sum(train[train.drugName == j].rating) / np.sum(train.drugName == j)))\n",
    "        \n",
    "    # Save temporary list as a dataframe as a value in help dictionary, sorted best to worst drugs\n",
    "    help_dict[i] = pd.DataFrame(data=temp_ls, columns=['drug', 'average_rating']).sort_values(by='average_rating', ascending=False).reset_index(drop=True)"
   ]
  },
  {
   "cell_type": "code",
   "execution_count": 53,
   "id": "d73eb8d0",
   "metadata": {},
   "outputs": [
    {
     "data": {
      "text/html": [
       "<div>\n",
       "<style scoped>\n",
       "    .dataframe tbody tr th:only-of-type {\n",
       "        vertical-align: middle;\n",
       "    }\n",
       "\n",
       "    .dataframe tbody tr th {\n",
       "        vertical-align: top;\n",
       "    }\n",
       "\n",
       "    .dataframe thead th {\n",
       "        text-align: right;\n",
       "    }\n",
       "</style>\n",
       "<table border=\"1\" class=\"dataframe\">\n",
       "  <thead>\n",
       "    <tr style=\"text-align: right;\">\n",
       "      <th></th>\n",
       "      <th>drug</th>\n",
       "      <th>average_rating</th>\n",
       "    </tr>\n",
       "  </thead>\n",
       "  <tbody>\n",
       "    <tr>\n",
       "      <th>0</th>\n",
       "      <td>Liletta</td>\n",
       "      <td>4.181818</td>\n",
       "    </tr>\n",
       "    <tr>\n",
       "      <th>1</th>\n",
       "      <td>Implanon</td>\n",
       "      <td>4.055556</td>\n",
       "    </tr>\n",
       "    <tr>\n",
       "      <th>2</th>\n",
       "      <td>Ethinyl estradiol / norelgestromin</td>\n",
       "      <td>4.000000</td>\n",
       "    </tr>\n",
       "    <tr>\n",
       "      <th>3</th>\n",
       "      <td>ParaGard</td>\n",
       "      <td>3.909091</td>\n",
       "    </tr>\n",
       "    <tr>\n",
       "      <th>4</th>\n",
       "      <td>Desogestrel / ethinyl estradiol</td>\n",
       "      <td>3.857143</td>\n",
       "    </tr>\n",
       "    <tr>\n",
       "      <th>5</th>\n",
       "      <td>Skyla</td>\n",
       "      <td>3.842105</td>\n",
       "    </tr>\n",
       "    <tr>\n",
       "      <th>6</th>\n",
       "      <td>Levonorgestrel</td>\n",
       "      <td>3.718391</td>\n",
       "    </tr>\n",
       "    <tr>\n",
       "      <th>7</th>\n",
       "      <td>Yaz</td>\n",
       "      <td>3.700000</td>\n",
       "    </tr>\n",
       "    <tr>\n",
       "      <th>8</th>\n",
       "      <td>Ethinyl estradiol / etonogestrel</td>\n",
       "      <td>3.590909</td>\n",
       "    </tr>\n",
       "    <tr>\n",
       "      <th>9</th>\n",
       "      <td>NuvaRing</td>\n",
       "      <td>3.500000</td>\n",
       "    </tr>\n",
       "  </tbody>\n",
       "</table>\n",
       "</div>"
      ],
      "text/plain": [
       "                                 drug  average_rating\n",
       "0                             Liletta        4.181818\n",
       "1                            Implanon        4.055556\n",
       "2  Ethinyl estradiol / norelgestromin        4.000000\n",
       "3                            ParaGard        3.909091\n",
       "4     Desogestrel / ethinyl estradiol        3.857143\n",
       "5                               Skyla        3.842105\n",
       "6                      Levonorgestrel        3.718391\n",
       "7                                 Yaz        3.700000\n",
       "8    Ethinyl estradiol / etonogestrel        3.590909\n",
       "9                            NuvaRing        3.500000"
      ]
     },
     "execution_count": 53,
     "metadata": {},
     "output_type": "execute_result"
    }
   ],
   "source": [
    "help_dict['Birth Control'].iloc[:10]"
   ]
  },
  {
   "cell_type": "code",
   "execution_count": 54,
   "id": "3cf991e6",
   "metadata": {},
   "outputs": [
    {
     "data": {
      "text/html": [
       "<div>\n",
       "<style scoped>\n",
       "    .dataframe tbody tr th:only-of-type {\n",
       "        vertical-align: middle;\n",
       "    }\n",
       "\n",
       "    .dataframe tbody tr th {\n",
       "        vertical-align: top;\n",
       "    }\n",
       "\n",
       "    .dataframe thead th {\n",
       "        text-align: right;\n",
       "    }\n",
       "</style>\n",
       "<table border=\"1\" class=\"dataframe\">\n",
       "  <thead>\n",
       "    <tr style=\"text-align: right;\">\n",
       "      <th></th>\n",
       "      <th>drug</th>\n",
       "      <th>average_rating</th>\n",
       "    </tr>\n",
       "  </thead>\n",
       "  <tbody>\n",
       "    <tr>\n",
       "      <th>0</th>\n",
       "      <td>Xanax</td>\n",
       "      <td>4.875000</td>\n",
       "    </tr>\n",
       "    <tr>\n",
       "      <th>1</th>\n",
       "      <td>Lexapro</td>\n",
       "      <td>4.516129</td>\n",
       "    </tr>\n",
       "    <tr>\n",
       "      <th>2</th>\n",
       "      <td>Wellbutrin XL</td>\n",
       "      <td>4.500000</td>\n",
       "    </tr>\n",
       "    <tr>\n",
       "      <th>3</th>\n",
       "      <td>Alprazolam</td>\n",
       "      <td>4.407407</td>\n",
       "    </tr>\n",
       "    <tr>\n",
       "      <th>4</th>\n",
       "      <td>Paxil</td>\n",
       "      <td>4.384615</td>\n",
       "    </tr>\n",
       "    <tr>\n",
       "      <th>5</th>\n",
       "      <td>Nuvigil</td>\n",
       "      <td>4.333333</td>\n",
       "    </tr>\n",
       "    <tr>\n",
       "      <th>6</th>\n",
       "      <td>Tramadol</td>\n",
       "      <td>4.183673</td>\n",
       "    </tr>\n",
       "    <tr>\n",
       "      <th>7</th>\n",
       "      <td>Bupropion</td>\n",
       "      <td>4.181818</td>\n",
       "    </tr>\n",
       "    <tr>\n",
       "      <th>8</th>\n",
       "      <td>Fluoxetine</td>\n",
       "      <td>4.157895</td>\n",
       "    </tr>\n",
       "    <tr>\n",
       "      <th>9</th>\n",
       "      <td>Risperidone</td>\n",
       "      <td>4.090909</td>\n",
       "    </tr>\n",
       "  </tbody>\n",
       "</table>\n",
       "</div>"
      ],
      "text/plain": [
       "            drug  average_rating\n",
       "0          Xanax        4.875000\n",
       "1        Lexapro        4.516129\n",
       "2  Wellbutrin XL        4.500000\n",
       "3     Alprazolam        4.407407\n",
       "4          Paxil        4.384615\n",
       "5        Nuvigil        4.333333\n",
       "6       Tramadol        4.183673\n",
       "7      Bupropion        4.181818\n",
       "8     Fluoxetine        4.157895\n",
       "9    Risperidone        4.090909"
      ]
     },
     "execution_count": 54,
     "metadata": {},
     "output_type": "execute_result"
    }
   ],
   "source": [
    "help_dict['Depression'].iloc[:10]"
   ]
  },
  {
   "cell_type": "code",
   "execution_count": 55,
   "id": "1c940df3",
   "metadata": {},
   "outputs": [
    {
     "data": {
      "text/html": [
       "<div>\n",
       "<style scoped>\n",
       "    .dataframe tbody tr th:only-of-type {\n",
       "        vertical-align: middle;\n",
       "    }\n",
       "\n",
       "    .dataframe tbody tr th {\n",
       "        vertical-align: top;\n",
       "    }\n",
       "\n",
       "    .dataframe thead th {\n",
       "        text-align: right;\n",
       "    }\n",
       "</style>\n",
       "<table border=\"1\" class=\"dataframe\">\n",
       "  <thead>\n",
       "    <tr style=\"text-align: right;\">\n",
       "      <th></th>\n",
       "      <th>drug</th>\n",
       "      <th>average_rating</th>\n",
       "    </tr>\n",
       "  </thead>\n",
       "  <tbody>\n",
       "    <tr>\n",
       "      <th>0</th>\n",
       "      <td>Spironolactone</td>\n",
       "      <td>5.000000</td>\n",
       "    </tr>\n",
       "    <tr>\n",
       "      <th>1</th>\n",
       "      <td>Tretinoin</td>\n",
       "      <td>4.700000</td>\n",
       "    </tr>\n",
       "    <tr>\n",
       "      <th>2</th>\n",
       "      <td>Benzoyl peroxide / clindamycin</td>\n",
       "      <td>4.666667</td>\n",
       "    </tr>\n",
       "    <tr>\n",
       "      <th>3</th>\n",
       "      <td>Isotretinoin</td>\n",
       "      <td>4.428571</td>\n",
       "    </tr>\n",
       "    <tr>\n",
       "      <th>4</th>\n",
       "      <td>Adapalene / benzoyl peroxide</td>\n",
       "      <td>3.842105</td>\n",
       "    </tr>\n",
       "    <tr>\n",
       "      <th>5</th>\n",
       "      <td>Yaz</td>\n",
       "      <td>3.700000</td>\n",
       "    </tr>\n",
       "    <tr>\n",
       "      <th>6</th>\n",
       "      <td>Minocycline</td>\n",
       "      <td>3.666667</td>\n",
       "    </tr>\n",
       "    <tr>\n",
       "      <th>7</th>\n",
       "      <td>Doxycycline</td>\n",
       "      <td>3.645161</td>\n",
       "    </tr>\n",
       "    <tr>\n",
       "      <th>8</th>\n",
       "      <td>Bactrim</td>\n",
       "      <td>3.562500</td>\n",
       "    </tr>\n",
       "    <tr>\n",
       "      <th>9</th>\n",
       "      <td>Drospirenone / ethinyl estradiol</td>\n",
       "      <td>3.500000</td>\n",
       "    </tr>\n",
       "  </tbody>\n",
       "</table>\n",
       "</div>"
      ],
      "text/plain": [
       "                               drug  average_rating\n",
       "0                    Spironolactone        5.000000\n",
       "1                         Tretinoin        4.700000\n",
       "2    Benzoyl peroxide / clindamycin        4.666667\n",
       "3                      Isotretinoin        4.428571\n",
       "4      Adapalene / benzoyl peroxide        3.842105\n",
       "5                               Yaz        3.700000\n",
       "6                       Minocycline        3.666667\n",
       "7                       Doxycycline        3.645161\n",
       "8                           Bactrim        3.562500\n",
       "9  Drospirenone / ethinyl estradiol        3.500000"
      ]
     },
     "execution_count": 55,
     "metadata": {},
     "output_type": "execute_result"
    }
   ],
   "source": [
    "help_dict['Acne'].iloc[:10]"
   ]
  },
  {
   "cell_type": "code",
   "execution_count": 56,
   "id": "f922f7d4",
   "metadata": {},
   "outputs": [
    {
     "data": {
      "text/html": [
       "<div>\n",
       "<style scoped>\n",
       "    .dataframe tbody tr th:only-of-type {\n",
       "        vertical-align: middle;\n",
       "    }\n",
       "\n",
       "    .dataframe tbody tr th {\n",
       "        vertical-align: top;\n",
       "    }\n",
       "\n",
       "    .dataframe thead th {\n",
       "        text-align: right;\n",
       "    }\n",
       "</style>\n",
       "<table border=\"1\" class=\"dataframe\">\n",
       "  <thead>\n",
       "    <tr style=\"text-align: right;\">\n",
       "      <th></th>\n",
       "      <th>drug</th>\n",
       "      <th>average_rating</th>\n",
       "    </tr>\n",
       "  </thead>\n",
       "  <tbody>\n",
       "    <tr>\n",
       "      <th>9</th>\n",
       "      <td>Drospirenone / ethinyl estradiol</td>\n",
       "      <td>3.500000</td>\n",
       "    </tr>\n",
       "    <tr>\n",
       "      <th>10</th>\n",
       "      <td>Microgestin Fe 1 / 20</td>\n",
       "      <td>3.454545</td>\n",
       "    </tr>\n",
       "    <tr>\n",
       "      <th>11</th>\n",
       "      <td>Tri-Sprintec</td>\n",
       "      <td>3.409091</td>\n",
       "    </tr>\n",
       "    <tr>\n",
       "      <th>12</th>\n",
       "      <td>Clindamycin</td>\n",
       "      <td>3.400000</td>\n",
       "    </tr>\n",
       "    <tr>\n",
       "      <th>13</th>\n",
       "      <td>Junel Fe 1 / 20</td>\n",
       "      <td>3.333333</td>\n",
       "    </tr>\n",
       "    <tr>\n",
       "      <th>14</th>\n",
       "      <td>Sulfamethoxazole / trimethoprim</td>\n",
       "      <td>3.281250</td>\n",
       "    </tr>\n",
       "    <tr>\n",
       "      <th>15</th>\n",
       "      <td>Ethinyl estradiol / norgestimate</td>\n",
       "      <td>3.000000</td>\n",
       "    </tr>\n",
       "    <tr>\n",
       "      <th>16</th>\n",
       "      <td>TriNessa</td>\n",
       "      <td>2.750000</td>\n",
       "    </tr>\n",
       "    <tr>\n",
       "      <th>17</th>\n",
       "      <td>Loestrin 24 Fe</td>\n",
       "      <td>2.666667</td>\n",
       "    </tr>\n",
       "    <tr>\n",
       "      <th>18</th>\n",
       "      <td>Ethinyl estradiol / norethindrone</td>\n",
       "      <td>2.637255</td>\n",
       "    </tr>\n",
       "  </tbody>\n",
       "</table>\n",
       "</div>"
      ],
      "text/plain": [
       "                                 drug  average_rating\n",
       "9    Drospirenone / ethinyl estradiol        3.500000\n",
       "10              Microgestin Fe 1 / 20        3.454545\n",
       "11                       Tri-Sprintec        3.409091\n",
       "12                        Clindamycin        3.400000\n",
       "13                    Junel Fe 1 / 20        3.333333\n",
       "14    Sulfamethoxazole / trimethoprim        3.281250\n",
       "15   Ethinyl estradiol / norgestimate        3.000000\n",
       "16                           TriNessa        2.750000\n",
       "17                     Loestrin 24 Fe        2.666667\n",
       "18  Ethinyl estradiol / norethindrone        2.637255"
      ]
     },
     "execution_count": 56,
     "metadata": {},
     "output_type": "execute_result"
    }
   ],
   "source": [
    "help_dict['Acne'].iloc[-10:]"
   ]
  },
  {
   "cell_type": "markdown",
   "id": "618c58d0",
   "metadata": {},
   "source": [
    "# Classification with sk-learn and Random Forests"
   ]
  },
  {
   "cell_type": "code",
   "execution_count": 72,
   "id": "31d2b189",
   "metadata": {},
   "outputs": [],
   "source": [
    "# Creates TF-IDF vectorizer and transforms the corpus\n",
    "vectorizer = TfidfVectorizer()\n",
    "X_train = vectorizer.fit_transform(train.reviewComment)\n",
    "\n",
    "# transforms test reviews to above vectorized format\n",
    "X_test = vectorizer.transform(test.reviewComment)"
   ]
  },
  {
   "cell_type": "code",
   "execution_count": 73,
   "id": "24024dc2",
   "metadata": {},
   "outputs": [
    {
     "name": "stdout",
     "output_type": "stream",
     "text": [
      "Accuracy: 1.0\n",
      "Confusion Matrix\n",
      "[[1199]]\n"
     ]
    }
   ],
   "source": [
    "# Create a column with binary rating indicating the polarity of a review\n",
    "train['binary_rating'] = train['rating'] > 5\n",
    "\n",
    "y_train_rating = train.binary_rating\n",
    "clf = MultinomialNB().fit(X_train, y_train_rating)\n",
    "\n",
    "# Evaluates model on test set\n",
    "test['binary_rating'] = test.rating > 5\n",
    "y_test_rating = test.binary_rating\n",
    "pred = clf.predict(X_test)\n",
    "\n",
    "print(\"Accuracy: %s\" % str(clf.score(X_test, y_test_rating)))\n",
    "print(\"Confusion Matrix\")\n",
    "print(confusion_matrix(pred, y_test_rating))"
   ]
  },
  {
   "cell_type": "code",
   "execution_count": 74,
   "id": "955c07da",
   "metadata": {},
   "outputs": [
    {
     "name": "stdout",
     "output_type": "stream",
     "text": [
      "Training time: 0.39696216583251953\n",
      "Accuracy: 1.0\n",
      "Confusion Matrix\n",
      "[[1199]]\n"
     ]
    }
   ],
   "source": [
    "# Trains random forest classifier\n",
    "start = time.time()\n",
    "rfc_rating = RandomForestClassifier(n_estimators=100, random_state=42, max_depth = 10000, min_samples_split = 0.001)\n",
    "rfc_rating.fit(X_train, y_train_rating)\n",
    "end = time.time()\n",
    "print(\"Training time: %s\" % str(end-start))\n",
    "\n",
    "# Evaluates model on test set\n",
    "pred = rfc_rating.predict(X_test)\n",
    "\n",
    "print(\"Accuracy: %s\" % str(rfc_rating.score(X_test, y_test_rating)))\n",
    "print(\"Confusion Matrix\")\n",
    "print(confusion_matrix(pred, y_test_rating))"
   ]
  },
  {
   "cell_type": "markdown",
   "id": "9a9b504a",
   "metadata": {},
   "source": [
    "# Classification with Keras¶"
   ]
  },
  {
   "cell_type": "code",
   "execution_count": 76,
   "id": "b7e286db",
   "metadata": {},
   "outputs": [
    {
     "name": "stdout",
     "output_type": "stream",
     "text": [
      "['\"I039ve tried a few antidepressants over the years citalopram, fluoxetine, amitriptyline, but none of those helped with my depression, insomnia amp anxiety My doctor suggested and changed me onto 45mg mirtazapine and this medicine has saved my life Thankfully I have had no side effects especially the most common  weight gain, I039ve actually lost alot of weight I still have suicidal thoughts but mirtazapine has saved me\"'\n",
      " '\"My son has Crohn039s disease and has done very well on the Asacol  He has no complaints and shows no side effects  He has taken as many as nine tablets per day at one time  I039ve been very happy with the results, reducing his bouts of diarrhea drastically\"']\n"
     ]
    }
   ],
   "source": [
    "b = \"'@#$%^()&*;!.-\"\n",
    "X_train = np.array(train['reviewComment'])\n",
    "X_test = np.array(test['reviewComment'])\n",
    "\n",
    "def clean(X):\n",
    "    for index, review in enumerate(X):\n",
    "        for char in b:\n",
    "            X[index] = X[index].replace(char, \"\")\n",
    "    return(X)\n",
    "\n",
    "X_train = clean(X_train)\n",
    "X_test = clean(X_test)\n",
    "print(X_train[:2])"
   ]
  },
  {
   "cell_type": "code",
   "execution_count": 82,
   "id": "73406ba6",
   "metadata": {},
   "outputs": [
    {
     "name": "stdout",
     "output_type": "stream",
     "text": [
      "(8198,)\n",
      "<class 'scipy.sparse.csr.csr_matrix'>\n"
     ]
    }
   ],
   "source": [
    "# Doing some preprocessing by removing all symbols from the reviews.\n",
    "from tensorflow.keras.models import Sequential\n",
    "from tensorflow.keras.layers import Dense, LSTM, Embedding\n",
    "from sklearn.feature_extraction.text import CountVectorizer, TfidfVectorizer\n",
    "from nltk.corpus import stopwords\n",
    "from tensorflow.keras.utils import to_categorical\n",
    "from gensim.models import Word2Vec\n",
    "from nltk.cluster import KMeansClusterer\n",
    "import nltk\n",
    "\n",
    "vectorizer = CountVectorizer(binary=True, stop_words=stopwords.words('english'),lowercase=True, max_features=5000)\n",
    "#vectorizer = TfidfVectorizer(binary=True, stop_words=stopwords.words('english'), lowercase=True, max_features=5000)\n",
    "test_train = np.concatenate([X_train, X_test])\n",
    "print(test_train.shape)\n",
    "X_onehot = vectorizer.fit_transform(test_train)\n",
    "stop_words = vectorizer.get_stop_words()\n",
    "print(type(X_onehot))"
   ]
  },
  {
   "cell_type": "code",
   "execution_count": 83,
   "id": "de5c38f4",
   "metadata": {},
   "outputs": [
    {
     "name": "stdout",
     "output_type": "stream",
     "text": [
      "(8198, 5000)\n",
      "[[0 0 0 ... 0 0 0]\n",
      " [0 0 0 ... 0 0 0]\n",
      " [0 0 0 ... 0 0 0]\n",
      " ...\n",
      " [0 0 0 ... 0 0 0]\n",
      " [0 0 0 ... 0 0 0]\n",
      " [0 0 0 ... 0 0 0]]\n"
     ]
    }
   ],
   "source": [
    "print(X_onehot.shape)\n",
    "print(X_onehot.toarray())"
   ]
  },
  {
   "cell_type": "code",
   "execution_count": 123,
   "id": "294b0d4a",
   "metadata": {},
   "outputs": [
    {
     "name": "stdout",
     "output_type": "stream",
     "text": [
      "5000\n",
      "[-5.3622725e-04  2.3643016e-04  5.1033497e-03  9.0092728e-03\n",
      " -9.3029495e-03 -7.1168090e-03  6.4588715e-03  8.9729885e-03\n",
      " -5.0154282e-03 -3.7633730e-03  7.3805046e-03 -1.5334726e-03\n",
      " -4.5366143e-03  6.5540504e-03 -4.8601604e-03 -1.8160177e-03\n",
      "  2.8765798e-03  9.9187379e-04 -8.2852151e-03 -9.4488189e-03\n",
      "  7.3117660e-03  5.0702621e-03  6.7576934e-03  7.6286553e-04\n",
      "  6.3508893e-03 -3.4053659e-03 -9.4640255e-04  5.7685734e-03\n",
      " -7.5216386e-03 -3.9361049e-03 -7.5115822e-03 -9.3004224e-04\n",
      "  9.5381187e-03 -7.3191668e-03 -2.3337698e-03 -1.9377422e-03\n",
      "  8.0774352e-03 -5.9308959e-03  4.5161247e-05 -4.7537349e-03\n",
      " -9.6035507e-03  5.0072931e-03 -8.7595871e-03 -4.3918253e-03\n",
      " -3.5099984e-05 -2.9618264e-04 -7.6612402e-03  9.6147414e-03\n",
      "  4.9820566e-03  9.2331432e-03 -8.1579182e-03  4.4957972e-03\n",
      " -4.1370774e-03  8.2453492e-04  8.4986184e-03 -4.4621779e-03\n",
      "  4.5175003e-03 -6.7869616e-03 -3.5484887e-03  9.3985079e-03\n",
      " -1.5776539e-03  3.2137157e-04 -4.1406299e-03 -7.6826881e-03\n",
      " -1.5080094e-03  2.4697948e-03 -8.8802812e-04  5.5336617e-03\n",
      " -2.7429771e-03  2.2600652e-03  5.4557943e-03  8.3459523e-03\n",
      " -1.4537406e-03 -9.2081428e-03  4.3705511e-03  5.7178497e-04\n",
      "  7.4419067e-03 -8.1328390e-04 -2.6384138e-03 -8.7530091e-03\n",
      " -8.5655687e-04  2.8265619e-03  5.4014279e-03  7.0526553e-03\n",
      " -5.7031228e-03  1.8588186e-03  6.0888622e-03 -4.7980524e-03\n",
      " -3.1072616e-03  6.7976285e-03  1.6314745e-03  1.8991709e-04\n",
      "  3.4736372e-03  2.1777629e-04  9.6188262e-03  5.0606038e-03\n",
      " -8.9173913e-03 -7.0415614e-03  9.0145587e-04  6.3925339e-03]\n"
     ]
    }
   ],
   "source": [
    "names_list = vectorizer.get_feature_names()\n",
    "names = [[i] for i in names_list]\n",
    "names = Word2Vec(names, min_count=1)\n",
    "print(len(names.wv))\n",
    "print(names.wv[0])"
   ]
  },
  {
   "cell_type": "code",
   "execution_count": 129,
   "id": "b081e83f",
   "metadata": {},
   "outputs": [],
   "source": [
    "def score_transform(X):\n",
    "    y_reshaped = np.reshape(X['rating'].values, (-1, 1))\n",
    "    for index, val in enumerate(y_reshaped):\n",
    "        y_reshaped[index] = val\n",
    "\n",
    "    y_result = to_categorical(y_reshaped)\n",
    "    return y_result\n",
    "    \n",
    "    print(X_onehot)"
   ]
  },
  {
   "cell_type": "code",
   "execution_count": 125,
   "id": "4fd28ad3",
   "metadata": {},
   "outputs": [
    {
     "name": "stdout",
     "output_type": "stream",
     "text": [
      "[[0. 0. 1.]\n",
      " [1. 0. 0.]\n",
      " [0. 0. 1.]\n",
      " ...\n",
      " [1. 0. 0.]\n",
      " [0. 0. 1.]\n",
      " [0. 0. 1.]]\n",
      "(8198, 3)\n"
     ]
    }
   ],
   "source": [
    "y_train_test = pd.concat([train, test], ignore_index=True)\n",
    "y_train = score_transform(y_train_test)\n",
    "print(y_train)\n",
    "print(y_train.shape)"
   ]
  },
  {
   "cell_type": "code",
   "execution_count": 138,
   "id": "7c42c189",
   "metadata": {},
   "outputs": [
    {
     "data": {
      "text/html": [
       "<div>\n",
       "<style scoped>\n",
       "    .dataframe tbody tr th:only-of-type {\n",
       "        vertical-align: middle;\n",
       "    }\n",
       "\n",
       "    .dataframe tbody tr th {\n",
       "        vertical-align: top;\n",
       "    }\n",
       "\n",
       "    .dataframe thead th {\n",
       "        text-align: right;\n",
       "    }\n",
       "</style>\n",
       "<table border=\"1\" class=\"dataframe\">\n",
       "  <thead>\n",
       "    <tr style=\"text-align: right;\">\n",
       "      <th></th>\n",
       "      <th>recordId</th>\n",
       "      <th>drugName</th>\n",
       "      <th>condition</th>\n",
       "      <th>reviewComment</th>\n",
       "      <th>date</th>\n",
       "      <th>usefulCount</th>\n",
       "      <th>sideEffects</th>\n",
       "      <th>rating</th>\n",
       "      <th>binary_rating</th>\n",
       "    </tr>\n",
       "  </thead>\n",
       "  <tbody>\n",
       "    <tr>\n",
       "      <th>0</th>\n",
       "      <td>163740</td>\n",
       "      <td>Mirtazapine</td>\n",
       "      <td>Depression</td>\n",
       "      <td>\"I&amp;#039;ve tried a few antidepressants over th...</td>\n",
       "      <td>February 28, 2012</td>\n",
       "      <td>22</td>\n",
       "      <td>Mild Side Effects</td>\n",
       "      <td>2</td>\n",
       "      <td>False</td>\n",
       "    </tr>\n",
       "    <tr>\n",
       "      <th>1</th>\n",
       "      <td>206473</td>\n",
       "      <td>Mesalamine</td>\n",
       "      <td>Crohn's Disease, Maintenance</td>\n",
       "      <td>\"My son has Crohn&amp;#039;s disease and has done ...</td>\n",
       "      <td>May 17, 2009</td>\n",
       "      <td>17</td>\n",
       "      <td>Severe Side Effects</td>\n",
       "      <td>0</td>\n",
       "      <td>False</td>\n",
       "    </tr>\n",
       "    <tr>\n",
       "      <th>2</th>\n",
       "      <td>159672</td>\n",
       "      <td>Bactrim</td>\n",
       "      <td>Urinary Tract Infection</td>\n",
       "      <td>\"Quick reduction of symptoms\"</td>\n",
       "      <td>September 29, 2017</td>\n",
       "      <td>3</td>\n",
       "      <td>No Side Effects</td>\n",
       "      <td>2</td>\n",
       "      <td>False</td>\n",
       "    </tr>\n",
       "    <tr>\n",
       "      <th>3</th>\n",
       "      <td>39293</td>\n",
       "      <td>Contrave</td>\n",
       "      <td>Weight Loss</td>\n",
       "      <td>\"Contrave combines drugs that were used for al...</td>\n",
       "      <td>March 5, 2017</td>\n",
       "      <td>35</td>\n",
       "      <td>Mild Side Effects</td>\n",
       "      <td>2</td>\n",
       "      <td>False</td>\n",
       "    </tr>\n",
       "    <tr>\n",
       "      <th>4</th>\n",
       "      <td>97768</td>\n",
       "      <td>Cyclafem 1 / 35</td>\n",
       "      <td>Birth Control</td>\n",
       "      <td>\"I have been on this birth control for one cyc...</td>\n",
       "      <td>October 22, 2015</td>\n",
       "      <td>4</td>\n",
       "      <td>Severe Side Effects</td>\n",
       "      <td>2</td>\n",
       "      <td>False</td>\n",
       "    </tr>\n",
       "    <tr>\n",
       "      <th>...</th>\n",
       "      <td>...</td>\n",
       "      <td>...</td>\n",
       "      <td>...</td>\n",
       "      <td>...</td>\n",
       "      <td>...</td>\n",
       "      <td>...</td>\n",
       "      <td>...</td>\n",
       "      <td>...</td>\n",
       "      <td>...</td>\n",
       "    </tr>\n",
       "    <tr>\n",
       "      <th>8193</th>\n",
       "      <td>53955</td>\n",
       "      <td>Minoxidil</td>\n",
       "      <td>Alopecia</td>\n",
       "      <td>\"Did not work well in the spots where I rubbed...</td>\n",
       "      <td>January 29, 2011</td>\n",
       "      <td>81</td>\n",
       "      <td>No Side Effects</td>\n",
       "      <td>0</td>\n",
       "      <td>False</td>\n",
       "    </tr>\n",
       "    <tr>\n",
       "      <th>8194</th>\n",
       "      <td>158860</td>\n",
       "      <td>Methylphenidate</td>\n",
       "      <td>ADHD</td>\n",
       "      <td>\"I took Concerta when I was in high school for...</td>\n",
       "      <td>November 3, 2011</td>\n",
       "      <td>16</td>\n",
       "      <td>Mild Side Effects</td>\n",
       "      <td>0</td>\n",
       "      <td>False</td>\n",
       "    </tr>\n",
       "    <tr>\n",
       "      <th>8195</th>\n",
       "      <td>151769</td>\n",
       "      <td>Chantix</td>\n",
       "      <td>Smoking Cessation</td>\n",
       "      <td>\"I quit abusing medicines and drinking 2 1/2 y...</td>\n",
       "      <td>February 14, 2014</td>\n",
       "      <td>15</td>\n",
       "      <td>Extremely Severe Side Effects</td>\n",
       "      <td>0</td>\n",
       "      <td>False</td>\n",
       "    </tr>\n",
       "    <tr>\n",
       "      <th>8196</th>\n",
       "      <td>215311</td>\n",
       "      <td>Lubiprostone</td>\n",
       "      <td>Irritable Bowel Syndrome</td>\n",
       "      <td>\"I developed Irritable Bowel Syndrome-C and ch...</td>\n",
       "      <td>March 27, 2013</td>\n",
       "      <td>73</td>\n",
       "      <td>Mild Side Effects</td>\n",
       "      <td>2</td>\n",
       "      <td>False</td>\n",
       "    </tr>\n",
       "    <tr>\n",
       "      <th>8197</th>\n",
       "      <td>115488</td>\n",
       "      <td>Propofol</td>\n",
       "      <td>Anesthesia</td>\n",
       "      <td>\"The doctor used propofol for a colonoscopy.  ...</td>\n",
       "      <td>March 19, 2015</td>\n",
       "      <td>30</td>\n",
       "      <td>No Side Effects</td>\n",
       "      <td>2</td>\n",
       "      <td>False</td>\n",
       "    </tr>\n",
       "  </tbody>\n",
       "</table>\n",
       "<p>8198 rows × 9 columns</p>\n",
       "</div>"
      ],
      "text/plain": [
       "      recordId         drugName                     condition  \\\n",
       "0       163740      Mirtazapine                    Depression   \n",
       "1       206473       Mesalamine  Crohn's Disease, Maintenance   \n",
       "2       159672          Bactrim       Urinary Tract Infection   \n",
       "3        39293         Contrave                   Weight Loss   \n",
       "4        97768  Cyclafem 1 / 35                 Birth Control   \n",
       "...        ...              ...                           ...   \n",
       "8193     53955        Minoxidil                      Alopecia   \n",
       "8194    158860  Methylphenidate                          ADHD   \n",
       "8195    151769          Chantix             Smoking Cessation   \n",
       "8196    215311     Lubiprostone      Irritable Bowel Syndrome   \n",
       "8197    115488         Propofol                    Anesthesia   \n",
       "\n",
       "                                          reviewComment                date  \\\n",
       "0     \"I&#039;ve tried a few antidepressants over th...   February 28, 2012   \n",
       "1     \"My son has Crohn&#039;s disease and has done ...        May 17, 2009   \n",
       "2                         \"Quick reduction of symptoms\"  September 29, 2017   \n",
       "3     \"Contrave combines drugs that were used for al...       March 5, 2017   \n",
       "4     \"I have been on this birth control for one cyc...    October 22, 2015   \n",
       "...                                                 ...                 ...   \n",
       "8193  \"Did not work well in the spots where I rubbed...    January 29, 2011   \n",
       "8194  \"I took Concerta when I was in high school for...    November 3, 2011   \n",
       "8195  \"I quit abusing medicines and drinking 2 1/2 y...   February 14, 2014   \n",
       "8196  \"I developed Irritable Bowel Syndrome-C and ch...      March 27, 2013   \n",
       "8197  \"The doctor used propofol for a colonoscopy.  ...      March 19, 2015   \n",
       "\n",
       "      usefulCount                    sideEffects  rating  binary_rating  \n",
       "0              22              Mild Side Effects       2          False  \n",
       "1              17            Severe Side Effects       0          False  \n",
       "2               3                No Side Effects       2          False  \n",
       "3              35              Mild Side Effects       2          False  \n",
       "4               4            Severe Side Effects       2          False  \n",
       "...           ...                            ...     ...            ...  \n",
       "8193           81                No Side Effects       0          False  \n",
       "8194           16              Mild Side Effects       0          False  \n",
       "8195           15  Extremely Severe Side Effects       0          False  \n",
       "8196           73              Mild Side Effects       2          False  \n",
       "8197           30                No Side Effects       2          False  \n",
       "\n",
       "[8198 rows x 9 columns]"
      ]
     },
     "execution_count": 138,
     "metadata": {},
     "output_type": "execute_result"
    }
   ],
   "source": [
    "y_train_test"
   ]
  },
  {
   "cell_type": "code",
   "execution_count": 127,
   "id": "957dc124",
   "metadata": {},
   "outputs": [
    {
     "data": {
      "text/plain": [
       "<bound method Model.summary of <keras.engine.sequential.Sequential object at 0x7f7bd9bce210>>"
      ]
     },
     "execution_count": 127,
     "metadata": {},
     "output_type": "execute_result"
    }
   ],
   "source": [
    "from numpy.random import seed\n",
    "\n",
    "np.random.seed(1)\n",
    "model = Sequential()\n",
    "model.add(Dense(units=256, activation='relu', input_dim=len(vectorizer.get_feature_names())))\n",
    "model.add(Dense(units=3, activation='softmax'))\n",
    "\n",
    "model.compile(loss='categorical_crossentropy', optimizer='adam', metrics=['accuracy'])\n",
    "model.summary\n",
    "\n",
    "\n",
    "# I experimented a lot with different kinds of simple NN architecture and this is what I concluded:\n",
    "# \n",
    "# Softmax was the best activation function for the output layer.\n",
    "# Vectorizing with the TFIDF vectorizer took longer to converge but had roughly the same accuracy as when I vectorized with the CountVectorizer. Changing binary and lowercase didn't result in any changes.\n",
    "# 256 units was the sweet spot for accuracy without overfitting.\n",
    "# Any units above would give me less accuracy as the model continued to train as well as overall performing worse, and less units just gave me worse accuracy overall.\n",
    "# I also discovered that adding any additional layers to the model resulted in a loss of accuracy, even when I kept the number of layer units small."
   ]
  },
  {
   "cell_type": "code",
   "execution_count": 133,
   "id": "637f39f9",
   "metadata": {},
   "outputs": [
    {
     "ename": "InvalidArgumentError",
     "evalue": "buffer_size must be greater than zero. [Op:ShuffleDatasetV3]",
     "output_type": "error",
     "traceback": [
      "\u001b[0;31m---------------------------------------------------------------------------\u001b[0m",
      "\u001b[0;31mInvalidArgumentError\u001b[0m                      Traceback (most recent call last)",
      "\u001b[0;32m/tmp/ipykernel_867599/1615889358.py\u001b[0m in \u001b[0;36m<module>\u001b[0;34m\u001b[0m\n\u001b[0;32m----> 1\u001b[0;31m \u001b[0mhistory\u001b[0m \u001b[0;34m=\u001b[0m \u001b[0mmodel\u001b[0m\u001b[0;34m.\u001b[0m\u001b[0mfit\u001b[0m\u001b[0;34m(\u001b[0m\u001b[0mX_onehot\u001b[0m\u001b[0;34m[\u001b[0m\u001b[0;34m:\u001b[0m\u001b[0;34m-\u001b[0m\u001b[0;36m53866\u001b[0m\u001b[0;34m]\u001b[0m\u001b[0;34m,\u001b[0m \u001b[0my_train\u001b[0m\u001b[0;34m[\u001b[0m\u001b[0;34m:\u001b[0m\u001b[0;34m-\u001b[0m\u001b[0;36m53866\u001b[0m\u001b[0;34m]\u001b[0m\u001b[0;34m,\u001b[0m \u001b[0mepochs\u001b[0m\u001b[0;34m=\u001b[0m\u001b[0;36m6\u001b[0m\u001b[0;34m,\u001b[0m \u001b[0mbatch_size\u001b[0m\u001b[0;34m=\u001b[0m\u001b[0;36m128\u001b[0m\u001b[0;34m,\u001b[0m \u001b[0mverbose\u001b[0m\u001b[0;34m=\u001b[0m\u001b[0;36m1\u001b[0m\u001b[0;34m,\u001b[0m \u001b[0mvalidation_data\u001b[0m\u001b[0;34m=\u001b[0m\u001b[0;34m(\u001b[0m\u001b[0mX_onehot\u001b[0m\u001b[0;34m[\u001b[0m\u001b[0;36m157382\u001b[0m\u001b[0;34m:\u001b[0m\u001b[0;36m157482\u001b[0m\u001b[0;34m]\u001b[0m\u001b[0;34m,\u001b[0m \u001b[0my_train\u001b[0m\u001b[0;34m[\u001b[0m\u001b[0;36m157382\u001b[0m\u001b[0;34m:\u001b[0m\u001b[0;36m157482\u001b[0m\u001b[0;34m]\u001b[0m\u001b[0;34m)\u001b[0m\u001b[0;34m)\u001b[0m\u001b[0;34m\u001b[0m\u001b[0;34m\u001b[0m\u001b[0m\n\u001b[0m",
      "\u001b[0;32m~/anaconda3/envs/big_data/lib/python3.7/site-packages/keras/utils/traceback_utils.py\u001b[0m in \u001b[0;36merror_handler\u001b[0;34m(*args, **kwargs)\u001b[0m\n\u001b[1;32m     65\u001b[0m     \u001b[0;32mexcept\u001b[0m \u001b[0mException\u001b[0m \u001b[0;32mas\u001b[0m \u001b[0me\u001b[0m\u001b[0;34m:\u001b[0m  \u001b[0;31m# pylint: disable=broad-except\u001b[0m\u001b[0;34m\u001b[0m\u001b[0;34m\u001b[0m\u001b[0m\n\u001b[1;32m     66\u001b[0m       \u001b[0mfiltered_tb\u001b[0m \u001b[0;34m=\u001b[0m \u001b[0m_process_traceback_frames\u001b[0m\u001b[0;34m(\u001b[0m\u001b[0me\u001b[0m\u001b[0;34m.\u001b[0m\u001b[0m__traceback__\u001b[0m\u001b[0;34m)\u001b[0m\u001b[0;34m\u001b[0m\u001b[0;34m\u001b[0m\u001b[0m\n\u001b[0;32m---> 67\u001b[0;31m       \u001b[0;32mraise\u001b[0m \u001b[0me\u001b[0m\u001b[0;34m.\u001b[0m\u001b[0mwith_traceback\u001b[0m\u001b[0;34m(\u001b[0m\u001b[0mfiltered_tb\u001b[0m\u001b[0;34m)\u001b[0m \u001b[0;32mfrom\u001b[0m \u001b[0;32mNone\u001b[0m\u001b[0;34m\u001b[0m\u001b[0;34m\u001b[0m\u001b[0m\n\u001b[0m\u001b[1;32m     68\u001b[0m     \u001b[0;32mfinally\u001b[0m\u001b[0;34m:\u001b[0m\u001b[0;34m\u001b[0m\u001b[0;34m\u001b[0m\u001b[0m\n\u001b[1;32m     69\u001b[0m       \u001b[0;32mdel\u001b[0m \u001b[0mfiltered_tb\u001b[0m\u001b[0;34m\u001b[0m\u001b[0;34m\u001b[0m\u001b[0m\n",
      "\u001b[0;32m~/anaconda3/envs/big_data/lib/python3.7/site-packages/tensorflow/python/framework/ops.py\u001b[0m in \u001b[0;36mraise_from_not_ok_status\u001b[0;34m(e, name)\u001b[0m\n\u001b[1;32m   7184\u001b[0m \u001b[0;32mdef\u001b[0m \u001b[0mraise_from_not_ok_status\u001b[0m\u001b[0;34m(\u001b[0m\u001b[0me\u001b[0m\u001b[0;34m,\u001b[0m \u001b[0mname\u001b[0m\u001b[0;34m)\u001b[0m\u001b[0;34m:\u001b[0m\u001b[0;34m\u001b[0m\u001b[0;34m\u001b[0m\u001b[0m\n\u001b[1;32m   7185\u001b[0m   \u001b[0me\u001b[0m\u001b[0;34m.\u001b[0m\u001b[0mmessage\u001b[0m \u001b[0;34m+=\u001b[0m \u001b[0;34m(\u001b[0m\u001b[0;34m\" name: \"\u001b[0m \u001b[0;34m+\u001b[0m \u001b[0mname\u001b[0m \u001b[0;32mif\u001b[0m \u001b[0mname\u001b[0m \u001b[0;32mis\u001b[0m \u001b[0;32mnot\u001b[0m \u001b[0;32mNone\u001b[0m \u001b[0;32melse\u001b[0m \u001b[0;34m\"\"\u001b[0m\u001b[0;34m)\u001b[0m\u001b[0;34m\u001b[0m\u001b[0;34m\u001b[0m\u001b[0m\n\u001b[0;32m-> 7186\u001b[0;31m   \u001b[0;32mraise\u001b[0m \u001b[0mcore\u001b[0m\u001b[0;34m.\u001b[0m\u001b[0m_status_to_exception\u001b[0m\u001b[0;34m(\u001b[0m\u001b[0me\u001b[0m\u001b[0;34m)\u001b[0m \u001b[0;32mfrom\u001b[0m \u001b[0;32mNone\u001b[0m  \u001b[0;31m# pylint: disable=protected-access\u001b[0m\u001b[0;34m\u001b[0m\u001b[0;34m\u001b[0m\u001b[0m\n\u001b[0m\u001b[1;32m   7187\u001b[0m \u001b[0;34m\u001b[0m\u001b[0m\n\u001b[1;32m   7188\u001b[0m \u001b[0;34m\u001b[0m\u001b[0m\n",
      "\u001b[0;31mInvalidArgumentError\u001b[0m: buffer_size must be greater than zero. [Op:ShuffleDatasetV3]"
     ]
    }
   ],
   "source": [
    "history = model.fit(X_onehot[:-53866], y_train[:-53866], epochs=6, batch_size=128, verbose=1, validation_data=(X_onehot[157382:157482], y_train[157382:157482]))"
   ]
  }
 ],
 "metadata": {
  "kernelspec": {
   "display_name": "Python 3 (ipykernel)",
   "language": "python",
   "name": "python3"
  },
  "language_info": {
   "codemirror_mode": {
    "name": "ipython",
    "version": 3
   },
   "file_extension": ".py",
   "mimetype": "text/x-python",
   "name": "python",
   "nbconvert_exporter": "python",
   "pygments_lexer": "ipython3",
   "version": "3.7.11"
  }
 },
 "nbformat": 4,
 "nbformat_minor": 5
}
