{
 "cells": [
  {
   "cell_type": "code",
   "execution_count": 1,
   "id": "8a1c8a35",
   "metadata": {},
   "outputs": [],
   "source": [
    "import numpy as np\n",
    "import pandas as pd"
   ]
  },
  {
   "cell_type": "markdown",
   "id": "40dc6022",
   "metadata": {},
   "source": [
    "### Preprocessing in data mining"
   ]
  },
  {
   "cell_type": "code",
   "execution_count": 2,
   "id": "f675b1e7",
   "metadata": {},
   "outputs": [],
   "source": [
    "testing_data = '../data/testing.csv'\n",
    "training_data = '../data/training.csv'\n",
    "validation_data = '../data/validation.csv'"
   ]
  },
  {
   "cell_type": "code",
   "execution_count": 3,
   "id": "617cabf7",
   "metadata": {},
   "outputs": [],
   "source": [
    "test_array = np.array(pd.read_csv(testing_data))\n",
    "train_array = np.array(pd.read_csv(training_data))\n",
    "validation_array = np.array(pd.read_csv(validation_data))"
   ]
  },
  {
   "cell_type": "markdown",
   "id": "4d398e30",
   "metadata": {},
   "source": [
    "### 利用英文分词工具NLTK进行分词\n",
    "安装命令\n",
    "```\n",
    "sudo pip install -U nltk\n",
    "```\n",
    "However, this command can't effect, I use the other command to solve this problem\n",
    "```\n",
    "conda install nltk\n",
    "```\n",
    "下载不下来，放弃了，找朋友要了现成的库"
   ]
  },
  {
   "cell_type": "code",
   "execution_count": 4,
   "id": "e71b7392",
   "metadata": {},
   "outputs": [],
   "source": [
    "from nltk import word_tokenize"
   ]
  },
  {
   "cell_type": "code",
   "execution_count": 5,
   "id": "315da04b",
   "metadata": {},
   "outputs": [
    {
     "name": "stdout",
     "output_type": "stream",
     "text": [
      "['The', 'first', 'time', 'I', 'heard', 'that', 'song', 'was', 'in', 'Hawaii', 'on', 'radio', '.', 'I', 'was', 'just', 'a', 'kid', ',', 'and', 'loved', 'it', 'very', 'much', '!', 'What', 'a', 'fantastic', 'song', '!']\n"
     ]
    }
   ],
   "source": [
    "from nltk import word_tokenize     #以空格形式实现分词\n",
    "paragraph = \"The first time I heard that song was in Hawaii on radio. I was just a kid, and loved it very much! What a fantastic song!\"\n",
    "words = word_tokenize(paragraph)"
   ]
  },
  {
   "cell_type": "markdown",
   "id": "7c8a03a8",
   "metadata": {},
   "source": [
    "### load stop_words"
   ]
  },
  {
   "cell_type": "code",
   "execution_count": 15,
   "id": "f5d1560e",
   "metadata": {},
   "outputs": [
    {
     "name": "stdout",
     "output_type": "stream",
     "text": [
      "['The', 'first', 'time', 'I', 'heard', 'song', 'Hawaii', 'radio', 'I', 'kid', 'loved', 'much', 'What', 'fantastic', 'song']\n"
     ]
    }
   ],
   "source": [
    "from nltk.corpus import stopwords\n",
    "\n",
    "\n",
    "from nltk.corpus import stopwords\n",
    "stop_words = stopwords.words('english')\n",
    "\n",
    "for w in ['!',',','.','?','-s','-ly','</s>','s']:\n",
    "    stop_words.append(w)\n",
    "\n",
    "filtered_words = [word for word in words if word not in stop_words]\n",
    "print(filtered_words)"
   ]
  },
  {
   "cell_type": "code",
   "execution_count": 31,
   "id": "ef2cfaaf",
   "metadata": {},
   "outputs": [
    {
     "ename": "AttributeError",
     "evalue": "module 'pandas' has no attribute 'df'",
     "output_type": "error",
     "traceback": [
      "\u001b[0;31m---------------------------------------------------------------------------\u001b[0m",
      "\u001b[0;31mAttributeError\u001b[0m                            Traceback (most recent call last)",
      "\u001b[0;32m/tmp/ipykernel_84967/869129445.py\u001b[0m in \u001b[0;36m<module>\u001b[0;34m\u001b[0m\n\u001b[0;32m----> 1\u001b[0;31m \u001b[0mpd\u001b[0m\u001b[0;34m.\u001b[0m\u001b[0mdf\u001b[0m\u001b[0;34m(\u001b[0m\u001b[0mtrain_array\u001b[0m\u001b[0;34m)\u001b[0m\u001b[0;34m\u001b[0m\u001b[0;34m\u001b[0m\u001b[0m\n\u001b[0m",
      "\u001b[0;32m~/anaconda3/envs/big_data/lib/python3.7/site-packages/pandas/__init__.py\u001b[0m in \u001b[0;36m__getattr__\u001b[0;34m(name)\u001b[0m\n\u001b[1;32m    242\u001b[0m         \u001b[0;32mreturn\u001b[0m \u001b[0m_SparseArray\u001b[0m\u001b[0;34m\u001b[0m\u001b[0;34m\u001b[0m\u001b[0m\n\u001b[1;32m    243\u001b[0m \u001b[0;34m\u001b[0m\u001b[0m\n\u001b[0;32m--> 244\u001b[0;31m     \u001b[0;32mraise\u001b[0m \u001b[0mAttributeError\u001b[0m\u001b[0;34m(\u001b[0m\u001b[0;34mf\"module 'pandas' has no attribute '{name}'\"\u001b[0m\u001b[0;34m)\u001b[0m\u001b[0;34m\u001b[0m\u001b[0;34m\u001b[0m\u001b[0m\n\u001b[0m\u001b[1;32m    245\u001b[0m \u001b[0;34m\u001b[0m\u001b[0m\n\u001b[1;32m    246\u001b[0m \u001b[0;34m\u001b[0m\u001b[0m\n",
      "\u001b[0;31mAttributeError\u001b[0m: module 'pandas' has no attribute 'df'"
     ]
    }
   ],
   "source": []
  }
 ],
 "metadata": {
  "kernelspec": {
   "display_name": "Python 3 (ipykernel)",
   "language": "python",
   "name": "python3"
  },
  "language_info": {
   "codemirror_mode": {
    "name": "ipython",
    "version": 3
   },
   "file_extension": ".py",
   "mimetype": "text/x-python",
   "name": "python",
   "nbconvert_exporter": "python",
   "pygments_lexer": "ipython3",
   "version": "3.7.11"
  }
 },
 "nbformat": 4,
 "nbformat_minor": 5
}
